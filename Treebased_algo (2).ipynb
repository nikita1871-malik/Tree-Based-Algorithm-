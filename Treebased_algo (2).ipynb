{
 "cells": [
  {
   "cell_type": "code",
   "execution_count": 7,
   "metadata": {},
   "outputs": [],
   "source": [
    "import pandas as pd \n",
    "import numpy as np\n",
    "from sklearn.model_selection import train_test_split\n",
    "from sklearn import metrics \n",
    "import matplotlib.pyplot as plt\n",
    "import os \n",
    "from sklearn.tree import plot_tree  # Plotting of DecisionTree"
   ]
  },
  {
   "cell_type": "code",
   "execution_count": 8,
   "metadata": {},
   "outputs": [],
   "source": [
    "os.chdir(r\"C:\\Users\\Nikita\\Downloads\")"
   ]
  },
  {
   "cell_type": "code",
   "execution_count": 9,
   "metadata": {},
   "outputs": [
    {
     "data": {
      "text/plain": [
       "['bank.xlsx',\n",
       " 'CTET Result.pdf',\n",
       " 'Decision Tree (1).ipynb',\n",
       " 'Decision Tree.ipynb',\n",
       " 'desktop.ini',\n",
       " 'Document.rtf',\n",
       " 'Fish_dataset.csv',\n",
       " 'Himanshu Nain Resume.docx',\n",
       " 'HR_comma_sep.csv',\n",
       " 'Linear Regression using Python_Class Assessment.pdf',\n",
       " 'LinearReg_LoansData.ipynb',\n",
       " 'LoansData.csv',\n",
       " 'Logistic on Fraud and non Fraud .ipynb',\n",
       " 'LogisticReg_bankDefault.ipynb',\n",
       " 'LogisticReg_Default_Bank-main.zip',\n",
       " 'Manisha Resume (1).pdf',\n",
       " 'Manisha Resume.docx',\n",
       " 'Manisha Resume.pdf',\n",
       " 'nikitamalik187@gmail.com Logistic regression test .ipynb',\n",
       " 'nikitamalik187@gmail.comLinear Regression Test  (1).ipynb',\n",
       " 'nikitamalik187@gmail.comLinear Regression Test .ipynb',\n",
       " 'Telegram Desktop',\n",
       " 'Test_RiskScore.xlsx',\n",
       " 'Train_RiskScore.csv',\n",
       " 'Treebased_algo.ipynb',\n",
       " 'xAPI-Edu-Data.csv',\n",
       " '~$manshu Nain Resume.docx',\n",
       " '~$plication mummy.docx',\n",
       " '~WRL1363.tmp']"
      ]
     },
     "execution_count": 9,
     "metadata": {},
     "output_type": "execute_result"
    }
   ],
   "source": [
    "os.listdir()"
   ]
  },
  {
   "cell_type": "code",
   "execution_count": 10,
   "metadata": {},
   "outputs": [],
   "source": [
    "banks=pd.read_excel('bank.xlsx', sheet_name=\"bank\") "
   ]
  },
  {
   "cell_type": "code",
   "execution_count": 11,
   "metadata": {},
   "outputs": [
    {
     "data": {
      "text/html": [
       "<div>\n",
       "<style scoped>\n",
       "    .dataframe tbody tr th:only-of-type {\n",
       "        vertical-align: middle;\n",
       "    }\n",
       "\n",
       "    .dataframe tbody tr th {\n",
       "        vertical-align: top;\n",
       "    }\n",
       "\n",
       "    .dataframe thead th {\n",
       "        text-align: right;\n",
       "    }\n",
       "</style>\n",
       "<table border=\"1\" class=\"dataframe\">\n",
       "  <thead>\n",
       "    <tr style=\"text-align: right;\">\n",
       "      <th></th>\n",
       "      <th>age</th>\n",
       "      <th>job</th>\n",
       "      <th>marital</th>\n",
       "      <th>education</th>\n",
       "      <th>default</th>\n",
       "      <th>balance</th>\n",
       "      <th>housing</th>\n",
       "      <th>loan</th>\n",
       "      <th>contact</th>\n",
       "      <th>day</th>\n",
       "      <th>month</th>\n",
       "      <th>duration</th>\n",
       "      <th>campaign</th>\n",
       "      <th>pdays</th>\n",
       "      <th>previous</th>\n",
       "      <th>poutcome</th>\n",
       "      <th>deposit</th>\n",
       "    </tr>\n",
       "  </thead>\n",
       "  <tbody>\n",
       "    <tr>\n",
       "      <th>0</th>\n",
       "      <td>59</td>\n",
       "      <td>admin.</td>\n",
       "      <td>married</td>\n",
       "      <td>secondary</td>\n",
       "      <td>no</td>\n",
       "      <td>2343</td>\n",
       "      <td>yes</td>\n",
       "      <td>no</td>\n",
       "      <td>unknown</td>\n",
       "      <td>5</td>\n",
       "      <td>may</td>\n",
       "      <td>1042</td>\n",
       "      <td>1</td>\n",
       "      <td>-1</td>\n",
       "      <td>0</td>\n",
       "      <td>unknown</td>\n",
       "      <td>yes</td>\n",
       "    </tr>\n",
       "    <tr>\n",
       "      <th>1</th>\n",
       "      <td>56</td>\n",
       "      <td>admin.</td>\n",
       "      <td>married</td>\n",
       "      <td>secondary</td>\n",
       "      <td>no</td>\n",
       "      <td>45</td>\n",
       "      <td>no</td>\n",
       "      <td>no</td>\n",
       "      <td>unknown</td>\n",
       "      <td>5</td>\n",
       "      <td>may</td>\n",
       "      <td>1467</td>\n",
       "      <td>1</td>\n",
       "      <td>-1</td>\n",
       "      <td>0</td>\n",
       "      <td>unknown</td>\n",
       "      <td>yes</td>\n",
       "    </tr>\n",
       "    <tr>\n",
       "      <th>2</th>\n",
       "      <td>41</td>\n",
       "      <td>technician</td>\n",
       "      <td>married</td>\n",
       "      <td>secondary</td>\n",
       "      <td>no</td>\n",
       "      <td>1270</td>\n",
       "      <td>yes</td>\n",
       "      <td>no</td>\n",
       "      <td>unknown</td>\n",
       "      <td>5</td>\n",
       "      <td>may</td>\n",
       "      <td>1389</td>\n",
       "      <td>1</td>\n",
       "      <td>-1</td>\n",
       "      <td>0</td>\n",
       "      <td>unknown</td>\n",
       "      <td>yes</td>\n",
       "    </tr>\n",
       "    <tr>\n",
       "      <th>3</th>\n",
       "      <td>55</td>\n",
       "      <td>services</td>\n",
       "      <td>married</td>\n",
       "      <td>secondary</td>\n",
       "      <td>no</td>\n",
       "      <td>2476</td>\n",
       "      <td>yes</td>\n",
       "      <td>no</td>\n",
       "      <td>unknown</td>\n",
       "      <td>5</td>\n",
       "      <td>may</td>\n",
       "      <td>579</td>\n",
       "      <td>1</td>\n",
       "      <td>-1</td>\n",
       "      <td>0</td>\n",
       "      <td>unknown</td>\n",
       "      <td>yes</td>\n",
       "    </tr>\n",
       "    <tr>\n",
       "      <th>4</th>\n",
       "      <td>54</td>\n",
       "      <td>admin.</td>\n",
       "      <td>married</td>\n",
       "      <td>tertiary</td>\n",
       "      <td>no</td>\n",
       "      <td>184</td>\n",
       "      <td>no</td>\n",
       "      <td>no</td>\n",
       "      <td>unknown</td>\n",
       "      <td>5</td>\n",
       "      <td>may</td>\n",
       "      <td>673</td>\n",
       "      <td>2</td>\n",
       "      <td>-1</td>\n",
       "      <td>0</td>\n",
       "      <td>unknown</td>\n",
       "      <td>yes</td>\n",
       "    </tr>\n",
       "  </tbody>\n",
       "</table>\n",
       "</div>"
      ],
      "text/plain": [
       "   age         job  marital  education default  balance housing loan  contact  \\\n",
       "0   59      admin.  married  secondary      no     2343     yes   no  unknown   \n",
       "1   56      admin.  married  secondary      no       45      no   no  unknown   \n",
       "2   41  technician  married  secondary      no     1270     yes   no  unknown   \n",
       "3   55    services  married  secondary      no     2476     yes   no  unknown   \n",
       "4   54      admin.  married   tertiary      no      184      no   no  unknown   \n",
       "\n",
       "   day month  duration  campaign  pdays  previous poutcome deposit  \n",
       "0    5   may      1042         1     -1         0  unknown     yes  \n",
       "1    5   may      1467         1     -1         0  unknown     yes  \n",
       "2    5   may      1389         1     -1         0  unknown     yes  \n",
       "3    5   may       579         1     -1         0  unknown     yes  \n",
       "4    5   may       673         2     -1         0  unknown     yes  "
      ]
     },
     "execution_count": 11,
     "metadata": {},
     "output_type": "execute_result"
    }
   ],
   "source": [
    "banks.head()"
   ]
  },
  {
   "cell_type": "code",
   "execution_count": 12,
   "metadata": {},
   "outputs": [
    {
     "data": {
      "text/plain": [
       "array(['admin.', 'technician', 'services', 'management', 'retired',\n",
       "       'blue-collar', 'unemployed', 'entrepreneur', 'housemaid',\n",
       "       'unknown', 'self-employed', 'student'], dtype=object)"
      ]
     },
     "execution_count": 12,
     "metadata": {},
     "output_type": "execute_result"
    }
   ],
   "source": [
    "banks[\"job\"].unique()"
   ]
  },
  {
   "cell_type": "code",
   "execution_count": 13,
   "metadata": {},
   "outputs": [
    {
     "data": {
      "text/plain": [
       "12"
      ]
     },
     "execution_count": 13,
     "metadata": {},
     "output_type": "execute_result"
    }
   ],
   "source": [
    "banks[\"job\"].nunique()"
   ]
  },
  {
   "cell_type": "code",
   "execution_count": 14,
   "metadata": {},
   "outputs": [
    {
     "data": {
      "text/plain": [
       "management       2566\n",
       "blue-collar      1944\n",
       "technician       1823\n",
       "admin.           1334\n",
       "services          923\n",
       "retired           778\n",
       "self-employed     405\n",
       "student           360\n",
       "unemployed        357\n",
       "entrepreneur      328\n",
       "housemaid         274\n",
       "unknown            70\n",
       "Name: job, dtype: int64"
      ]
     },
     "execution_count": 14,
     "metadata": {},
     "output_type": "execute_result"
    }
   ],
   "source": [
    "banks[\"job\"].value_counts(dropna=False)"
   ]
  },
  {
   "cell_type": "code",
   "execution_count": 15,
   "metadata": {},
   "outputs": [
    {
     "name": "stdout",
     "output_type": "stream",
     "text": [
      "<class 'pandas.core.frame.DataFrame'>\n",
      "RangeIndex: 11162 entries, 0 to 11161\n",
      "Data columns (total 17 columns):\n",
      " #   Column     Non-Null Count  Dtype \n",
      "---  ------     --------------  ----- \n",
      " 0   age        11162 non-null  int64 \n",
      " 1   job        11162 non-null  object\n",
      " 2   marital    11162 non-null  object\n",
      " 3   education  11162 non-null  object\n",
      " 4   default    11162 non-null  object\n",
      " 5   balance    11162 non-null  int64 \n",
      " 6   housing    11162 non-null  object\n",
      " 7   loan       11162 non-null  object\n",
      " 8   contact    11162 non-null  object\n",
      " 9   day        11162 non-null  int64 \n",
      " 10  month      11162 non-null  object\n",
      " 11  duration   11162 non-null  int64 \n",
      " 12  campaign   11162 non-null  int64 \n",
      " 13  pdays      11162 non-null  int64 \n",
      " 14  previous   11162 non-null  int64 \n",
      " 15  poutcome   11162 non-null  object\n",
      " 16  deposit    11162 non-null  object\n",
      "dtypes: int64(7), object(10)\n",
      "memory usage: 1.4+ MB\n"
     ]
    }
   ],
   "source": [
    "banks.info()"
   ]
  },
  {
   "cell_type": "markdown",
   "metadata": {},
   "source": [
    "### Univariate Analysis "
   ]
  },
  {
   "cell_type": "code",
   "execution_count": 16,
   "metadata": {},
   "outputs": [
    {
     "data": {
      "text/plain": [
       "<AxesSubplot:>"
      ]
     },
     "execution_count": 16,
     "metadata": {},
     "output_type": "execute_result"
    },
    {
     "data": {
      "image/png": "[encoded data removed]",
      "text/plain": [
       "<Figure size 432x288 with 1 Axes>"
      ]
     },
     "metadata": {
      "needs_background": "light"
     },
     "output_type": "display_data"
    }
   ],
   "source": [
    "banks[\"job\"].value_counts().plot(kind=\"bar\")"
   ]
  },
  {
   "cell_type": "code",
   "execution_count": 17,
   "metadata": {},
   "outputs": [
    {
     "data": {
      "text/plain": [
       "(11162, 17)"
      ]
     },
     "execution_count": 17,
     "metadata": {},
     "output_type": "execute_result"
    }
   ],
   "source": [
    "banks.shape"
   ]
  },
  {
   "cell_type": "code",
   "execution_count": 18,
   "metadata": {},
   "outputs": [],
   "source": [
    "banks[\"job\"]=banks[\"job\"].replace([\"management\", \"admin.\"], \"White-collar\")\n",
    "\n",
    "banks[\"job\"]=banks[\"job\"].replace([\"services\", \"housemaid\"], \"Pink-collar\")\n",
    "\n",
    "banks[\"job\"]=banks[\"job\"].replace([\"retired\", \"student\", \"unemployed\", \"unknown\"], \"Others\")\n",
    "\n",
    "banks[\"job\"]=banks[\"job\"].replace([\"self-employed\", \"entrepreneur\"], \"self-depend\")"
   ]
  },
  {
   "cell_type": "code",
   "execution_count": 19,
   "metadata": {},
   "outputs": [
    {
     "data": {
      "text/plain": [
       "White-collar    3900\n",
       "blue-collar     1944\n",
       "technician      1823\n",
       "Others          1565\n",
       "Pink-collar     1197\n",
       "self-depend      733\n",
       "Name: job, dtype: int64"
      ]
     },
     "execution_count": 19,
     "metadata": {},
     "output_type": "execute_result"
    }
   ],
   "source": [
    "banks[\"job\"].value_counts()"
   ]
  },
  {
   "cell_type": "code",
   "execution_count": 20,
   "metadata": {},
   "outputs": [
    {
     "data": {
      "text/plain": [
       "married     6351\n",
       "single      3518\n",
       "divorced    1293\n",
       "Name: marital, dtype: int64"
      ]
     },
     "execution_count": 20,
     "metadata": {},
     "output_type": "execute_result"
    }
   ],
   "source": [
    "banks[\"marital\"].value_counts()"
   ]
  },
  {
   "cell_type": "code",
   "execution_count": 21,
   "metadata": {},
   "outputs": [
    {
     "data": {
      "text/plain": [
       "secondary    5476\n",
       "tertiary     3689\n",
       "primary      1500\n",
       "unknown       497\n",
       "Name: education, dtype: int64"
      ]
     },
     "execution_count": 21,
     "metadata": {},
     "output_type": "execute_result"
    }
   ],
   "source": [
    "banks[\"education\"].value_counts()"
   ]
  },
  {
   "cell_type": "code",
   "execution_count": 22,
   "metadata": {},
   "outputs": [
    {
     "data": {
      "text/plain": [
       "no     10994\n",
       "yes      168\n",
       "Name: default, dtype: int64"
      ]
     },
     "execution_count": 22,
     "metadata": {},
     "output_type": "execute_result"
    }
   ],
   "source": [
    "banks[\"default\"].value_counts() "
   ]
  },
  {
   "cell_type": "code",
   "execution_count": 23,
   "metadata": {},
   "outputs": [
    {
     "data": {
      "text/plain": [
       "cellular     8042\n",
       "unknown      2346\n",
       "telephone     774\n",
       "Name: contact, dtype: int64"
      ]
     },
     "execution_count": 23,
     "metadata": {},
     "output_type": "execute_result"
    }
   ],
   "source": [
    "banks[\"contact\"].value_counts()"
   ]
  },
  {
   "cell_type": "code",
   "execution_count": 24,
   "metadata": {},
   "outputs": [],
   "source": [
    "banks.drop( columns=[\"contact\"], inplace=True)"
   ]
  },
  {
   "cell_type": "code",
   "execution_count": 25,
   "metadata": {},
   "outputs": [],
   "source": [
    "banks.drop(columns=[\"month\", \"day\"], inplace=True) "
   ]
  },
  {
   "cell_type": "code",
   "execution_count": 26,
   "metadata": {},
   "outputs": [
    {
     "data": {
      "text/plain": [
       "unknown    8326\n",
       "failure    1228\n",
       "success    1071\n",
       "other       537\n",
       "Name: poutcome, dtype: int64"
      ]
     },
     "execution_count": 26,
     "metadata": {},
     "output_type": "execute_result"
    }
   ],
   "source": [
    "banks[\"poutcome\"].value_counts()"
   ]
  },
  {
   "cell_type": "code",
   "execution_count": 27,
   "metadata": {},
   "outputs": [],
   "source": [
    "banks[\"poutcome\"]=banks[\"poutcome\"].replace([\"unknown\", \"other\"], \"others\")"
   ]
  },
  {
   "cell_type": "code",
   "execution_count": 28,
   "metadata": {},
   "outputs": [
    {
     "data": {
      "text/plain": [
       "others     8863\n",
       "failure    1228\n",
       "success    1071\n",
       "Name: poutcome, dtype: int64"
      ]
     },
     "execution_count": 28,
     "metadata": {},
     "output_type": "execute_result"
    }
   ],
   "source": [
    "banks[\"poutcome\"].value_counts()"
   ]
  },
  {
   "cell_type": "code",
   "execution_count": 29,
   "metadata": {},
   "outputs": [],
   "source": [
    "banks.loc[banks[\"pdays\"]==-1,\"pdays\"]=999\n",
    "banks[\"recent_pdays\"]=1/banks[\"pdays\"]\n",
    "banks.drop(columns=[\"pdays\"], inplace=True)"
   ]
  },
  {
   "cell_type": "code",
   "execution_count": 30,
   "metadata": {},
   "outputs": [
    {
     "data": {
      "text/plain": [
       "age             0\n",
       "job             0\n",
       "marital         0\n",
       "education       0\n",
       "default         0\n",
       "balance         0\n",
       "housing         0\n",
       "loan            0\n",
       "duration        0\n",
       "campaign        0\n",
       "previous        0\n",
       "poutcome        0\n",
       "deposit         0\n",
       "recent_pdays    0\n",
       "dtype: int64"
      ]
     },
     "execution_count": 30,
     "metadata": {},
     "output_type": "execute_result"
    }
   ],
   "source": [
    "banks.isnull().sum()"
   ]
  },
  {
   "cell_type": "code",
   "execution_count": null,
   "metadata": {},
   "outputs": [],
   "source": []
  },
  {
   "cell_type": "code",
   "execution_count": 31,
   "metadata": {},
   "outputs": [
    {
     "data": {
      "text/html": [
       "<div>\n",
       "<style scoped>\n",
       "    .dataframe tbody tr th:only-of-type {\n",
       "        vertical-align: middle;\n",
       "    }\n",
       "\n",
       "    .dataframe tbody tr th {\n",
       "        vertical-align: top;\n",
       "    }\n",
       "\n",
       "    .dataframe thead th {\n",
       "        text-align: right;\n",
       "    }\n",
       "</style>\n",
       "<table border=\"1\" class=\"dataframe\">\n",
       "  <thead>\n",
       "    <tr style=\"text-align: right;\">\n",
       "      <th></th>\n",
       "      <th>age</th>\n",
       "      <th>job</th>\n",
       "      <th>marital</th>\n",
       "      <th>education</th>\n",
       "      <th>default</th>\n",
       "      <th>balance</th>\n",
       "      <th>housing</th>\n",
       "      <th>loan</th>\n",
       "      <th>duration</th>\n",
       "      <th>campaign</th>\n",
       "      <th>previous</th>\n",
       "      <th>poutcome</th>\n",
       "      <th>recent_pdays</th>\n",
       "      <th>deposit_cat</th>\n",
       "    </tr>\n",
       "  </thead>\n",
       "  <tbody>\n",
       "    <tr>\n",
       "      <th>0</th>\n",
       "      <td>59</td>\n",
       "      <td>White-collar</td>\n",
       "      <td>married</td>\n",
       "      <td>secondary</td>\n",
       "      <td>no</td>\n",
       "      <td>2343</td>\n",
       "      <td>yes</td>\n",
       "      <td>no</td>\n",
       "      <td>1042</td>\n",
       "      <td>1</td>\n",
       "      <td>0</td>\n",
       "      <td>others</td>\n",
       "      <td>0.001001</td>\n",
       "      <td>1</td>\n",
       "    </tr>\n",
       "    <tr>\n",
       "      <th>1</th>\n",
       "      <td>56</td>\n",
       "      <td>White-collar</td>\n",
       "      <td>married</td>\n",
       "      <td>secondary</td>\n",
       "      <td>no</td>\n",
       "      <td>45</td>\n",
       "      <td>no</td>\n",
       "      <td>no</td>\n",
       "      <td>1467</td>\n",
       "      <td>1</td>\n",
       "      <td>0</td>\n",
       "      <td>others</td>\n",
       "      <td>0.001001</td>\n",
       "      <td>1</td>\n",
       "    </tr>\n",
       "    <tr>\n",
       "      <th>2</th>\n",
       "      <td>41</td>\n",
       "      <td>technician</td>\n",
       "      <td>married</td>\n",
       "      <td>secondary</td>\n",
       "      <td>no</td>\n",
       "      <td>1270</td>\n",
       "      <td>yes</td>\n",
       "      <td>no</td>\n",
       "      <td>1389</td>\n",
       "      <td>1</td>\n",
       "      <td>0</td>\n",
       "      <td>others</td>\n",
       "      <td>0.001001</td>\n",
       "      <td>1</td>\n",
       "    </tr>\n",
       "    <tr>\n",
       "      <th>3</th>\n",
       "      <td>55</td>\n",
       "      <td>Pink-collar</td>\n",
       "      <td>married</td>\n",
       "      <td>secondary</td>\n",
       "      <td>no</td>\n",
       "      <td>2476</td>\n",
       "      <td>yes</td>\n",
       "      <td>no</td>\n",
       "      <td>579</td>\n",
       "      <td>1</td>\n",
       "      <td>0</td>\n",
       "      <td>others</td>\n",
       "      <td>0.001001</td>\n",
       "      <td>1</td>\n",
       "    </tr>\n",
       "    <tr>\n",
       "      <th>4</th>\n",
       "      <td>54</td>\n",
       "      <td>White-collar</td>\n",
       "      <td>married</td>\n",
       "      <td>tertiary</td>\n",
       "      <td>no</td>\n",
       "      <td>184</td>\n",
       "      <td>no</td>\n",
       "      <td>no</td>\n",
       "      <td>673</td>\n",
       "      <td>2</td>\n",
       "      <td>0</td>\n",
       "      <td>others</td>\n",
       "      <td>0.001001</td>\n",
       "      <td>1</td>\n",
       "    </tr>\n",
       "    <tr>\n",
       "      <th>...</th>\n",
       "      <td>...</td>\n",
       "      <td>...</td>\n",
       "      <td>...</td>\n",
       "      <td>...</td>\n",
       "      <td>...</td>\n",
       "      <td>...</td>\n",
       "      <td>...</td>\n",
       "      <td>...</td>\n",
       "      <td>...</td>\n",
       "      <td>...</td>\n",
       "      <td>...</td>\n",
       "      <td>...</td>\n",
       "      <td>...</td>\n",
       "      <td>...</td>\n",
       "    </tr>\n",
       "    <tr>\n",
       "      <th>11157</th>\n",
       "      <td>33</td>\n",
       "      <td>blue-collar</td>\n",
       "      <td>single</td>\n",
       "      <td>primary</td>\n",
       "      <td>no</td>\n",
       "      <td>1</td>\n",
       "      <td>yes</td>\n",
       "      <td>no</td>\n",
       "      <td>257</td>\n",
       "      <td>1</td>\n",
       "      <td>0</td>\n",
       "      <td>others</td>\n",
       "      <td>0.001001</td>\n",
       "      <td>0</td>\n",
       "    </tr>\n",
       "    <tr>\n",
       "      <th>11158</th>\n",
       "      <td>39</td>\n",
       "      <td>Pink-collar</td>\n",
       "      <td>married</td>\n",
       "      <td>secondary</td>\n",
       "      <td>no</td>\n",
       "      <td>733</td>\n",
       "      <td>no</td>\n",
       "      <td>no</td>\n",
       "      <td>83</td>\n",
       "      <td>4</td>\n",
       "      <td>0</td>\n",
       "      <td>others</td>\n",
       "      <td>0.001001</td>\n",
       "      <td>0</td>\n",
       "    </tr>\n",
       "    <tr>\n",
       "      <th>11159</th>\n",
       "      <td>32</td>\n",
       "      <td>technician</td>\n",
       "      <td>single</td>\n",
       "      <td>secondary</td>\n",
       "      <td>no</td>\n",
       "      <td>29</td>\n",
       "      <td>no</td>\n",
       "      <td>no</td>\n",
       "      <td>156</td>\n",
       "      <td>2</td>\n",
       "      <td>0</td>\n",
       "      <td>others</td>\n",
       "      <td>0.001001</td>\n",
       "      <td>0</td>\n",
       "    </tr>\n",
       "    <tr>\n",
       "      <th>11160</th>\n",
       "      <td>43</td>\n",
       "      <td>technician</td>\n",
       "      <td>married</td>\n",
       "      <td>secondary</td>\n",
       "      <td>no</td>\n",
       "      <td>0</td>\n",
       "      <td>no</td>\n",
       "      <td>yes</td>\n",
       "      <td>9</td>\n",
       "      <td>2</td>\n",
       "      <td>5</td>\n",
       "      <td>failure</td>\n",
       "      <td>0.005814</td>\n",
       "      <td>0</td>\n",
       "    </tr>\n",
       "    <tr>\n",
       "      <th>11161</th>\n",
       "      <td>34</td>\n",
       "      <td>technician</td>\n",
       "      <td>married</td>\n",
       "      <td>secondary</td>\n",
       "      <td>no</td>\n",
       "      <td>0</td>\n",
       "      <td>no</td>\n",
       "      <td>no</td>\n",
       "      <td>628</td>\n",
       "      <td>1</td>\n",
       "      <td>0</td>\n",
       "      <td>others</td>\n",
       "      <td>0.001001</td>\n",
       "      <td>0</td>\n",
       "    </tr>\n",
       "  </tbody>\n",
       "</table>\n",
       "<p>11162 rows × 14 columns</p>\n",
       "</div>"
      ],
      "text/plain": [
       "       age           job  marital  education default  balance housing loan  \\\n",
       "0       59  White-collar  married  secondary      no     2343     yes   no   \n",
       "1       56  White-collar  married  secondary      no       45      no   no   \n",
       "2       41    technician  married  secondary      no     1270     yes   no   \n",
       "3       55   Pink-collar  married  secondary      no     2476     yes   no   \n",
       "4       54  White-collar  married   tertiary      no      184      no   no   \n",
       "...    ...           ...      ...        ...     ...      ...     ...  ...   \n",
       "11157   33   blue-collar   single    primary      no        1     yes   no   \n",
       "11158   39   Pink-collar  married  secondary      no      733      no   no   \n",
       "11159   32    technician   single  secondary      no       29      no   no   \n",
       "11160   43    technician  married  secondary      no        0      no  yes   \n",
       "11161   34    technician  married  secondary      no        0      no   no   \n",
       "\n",
       "       duration  campaign  previous poutcome  recent_pdays  deposit_cat  \n",
       "0          1042         1         0   others      0.001001            1  \n",
       "1          1467         1         0   others      0.001001            1  \n",
       "2          1389         1         0   others      0.001001            1  \n",
       "3           579         1         0   others      0.001001            1  \n",
       "4           673         2         0   others      0.001001            1  \n",
       "...         ...       ...       ...      ...           ...          ...  \n",
       "11157       257         1         0   others      0.001001            0  \n",
       "11158        83         4         0   others      0.001001            0  \n",
       "11159       156         2         0   others      0.001001            0  \n",
       "11160         9         2         5  failure      0.005814            0  \n",
       "11161       628         1         0   others      0.001001            0  \n",
       "\n",
       "[11162 rows x 14 columns]"
      ]
     },
     "execution_count": 31,
     "metadata": {},
     "output_type": "execute_result"
    }
   ],
   "source": [
    "banks[\"deposit_cat\"]=banks[\"deposit\"].map({\"yes\":1, \"no\":0})  # np.where(banks[\"deposit\"]==\"yes\", 1,0)\n",
    "banks.drop(columns=[\"deposit\"], inplace=True)\n",
    "banks "
   ]
  },
  {
   "cell_type": "code",
   "execution_count": 32,
   "metadata": {},
   "outputs": [
    {
     "data": {
      "text/html": [
       "<div>\n",
       "<style scoped>\n",
       "    .dataframe tbody tr th:only-of-type {\n",
       "        vertical-align: middle;\n",
       "    }\n",
       "\n",
       "    .dataframe tbody tr th {\n",
       "        vertical-align: top;\n",
       "    }\n",
       "\n",
       "    .dataframe thead th {\n",
       "        text-align: right;\n",
       "    }\n",
       "</style>\n",
       "<table border=\"1\" class=\"dataframe\">\n",
       "  <thead>\n",
       "    <tr style=\"text-align: right;\">\n",
       "      <th></th>\n",
       "      <th>age</th>\n",
       "      <th>job</th>\n",
       "      <th>marital</th>\n",
       "      <th>education</th>\n",
       "      <th>default</th>\n",
       "      <th>balance</th>\n",
       "      <th>housing</th>\n",
       "      <th>loan</th>\n",
       "      <th>duration</th>\n",
       "      <th>campaign</th>\n",
       "      <th>previous</th>\n",
       "      <th>poutcome</th>\n",
       "      <th>recent_pdays</th>\n",
       "      <th>deposit_cat</th>\n",
       "    </tr>\n",
       "  </thead>\n",
       "  <tbody>\n",
       "    <tr>\n",
       "      <th>0</th>\n",
       "      <td>59</td>\n",
       "      <td>White-collar</td>\n",
       "      <td>married</td>\n",
       "      <td>secondary</td>\n",
       "      <td>no</td>\n",
       "      <td>2343</td>\n",
       "      <td>yes</td>\n",
       "      <td>no</td>\n",
       "      <td>1042</td>\n",
       "      <td>1</td>\n",
       "      <td>0</td>\n",
       "      <td>others</td>\n",
       "      <td>0.001001</td>\n",
       "      <td>1</td>\n",
       "    </tr>\n",
       "    <tr>\n",
       "      <th>1</th>\n",
       "      <td>56</td>\n",
       "      <td>White-collar</td>\n",
       "      <td>married</td>\n",
       "      <td>secondary</td>\n",
       "      <td>no</td>\n",
       "      <td>45</td>\n",
       "      <td>no</td>\n",
       "      <td>no</td>\n",
       "      <td>1467</td>\n",
       "      <td>1</td>\n",
       "      <td>0</td>\n",
       "      <td>others</td>\n",
       "      <td>0.001001</td>\n",
       "      <td>1</td>\n",
       "    </tr>\n",
       "    <tr>\n",
       "      <th>2</th>\n",
       "      <td>41</td>\n",
       "      <td>technician</td>\n",
       "      <td>married</td>\n",
       "      <td>secondary</td>\n",
       "      <td>no</td>\n",
       "      <td>1270</td>\n",
       "      <td>yes</td>\n",
       "      <td>no</td>\n",
       "      <td>1389</td>\n",
       "      <td>1</td>\n",
       "      <td>0</td>\n",
       "      <td>others</td>\n",
       "      <td>0.001001</td>\n",
       "      <td>1</td>\n",
       "    </tr>\n",
       "    <tr>\n",
       "      <th>3</th>\n",
       "      <td>55</td>\n",
       "      <td>Pink-collar</td>\n",
       "      <td>married</td>\n",
       "      <td>secondary</td>\n",
       "      <td>no</td>\n",
       "      <td>2476</td>\n",
       "      <td>yes</td>\n",
       "      <td>no</td>\n",
       "      <td>579</td>\n",
       "      <td>1</td>\n",
       "      <td>0</td>\n",
       "      <td>others</td>\n",
       "      <td>0.001001</td>\n",
       "      <td>1</td>\n",
       "    </tr>\n",
       "    <tr>\n",
       "      <th>4</th>\n",
       "      <td>54</td>\n",
       "      <td>White-collar</td>\n",
       "      <td>married</td>\n",
       "      <td>tertiary</td>\n",
       "      <td>no</td>\n",
       "      <td>184</td>\n",
       "      <td>no</td>\n",
       "      <td>no</td>\n",
       "      <td>673</td>\n",
       "      <td>2</td>\n",
       "      <td>0</td>\n",
       "      <td>others</td>\n",
       "      <td>0.001001</td>\n",
       "      <td>1</td>\n",
       "    </tr>\n",
       "  </tbody>\n",
       "</table>\n",
       "</div>"
      ],
      "text/plain": [
       "   age           job  marital  education default  balance housing loan  \\\n",
       "0   59  White-collar  married  secondary      no     2343     yes   no   \n",
       "1   56  White-collar  married  secondary      no       45      no   no   \n",
       "2   41    technician  married  secondary      no     1270     yes   no   \n",
       "3   55   Pink-collar  married  secondary      no     2476     yes   no   \n",
       "4   54  White-collar  married   tertiary      no      184      no   no   \n",
       "\n",
       "   duration  campaign  previous poutcome  recent_pdays  deposit_cat  \n",
       "0      1042         1         0   others      0.001001            1  \n",
       "1      1467         1         0   others      0.001001            1  \n",
       "2      1389         1         0   others      0.001001            1  \n",
       "3       579         1         0   others      0.001001            1  \n",
       "4       673         2         0   others      0.001001            1  "
      ]
     },
     "execution_count": 32,
     "metadata": {},
     "output_type": "execute_result"
    }
   ],
   "source": [
    "banks.head() "
   ]
  },
  {
   "cell_type": "code",
   "execution_count": 33,
   "metadata": {},
   "outputs": [
    {
     "data": {
      "text/plain": [
       "<AxesSubplot:xlabel='age', ylabel='balance'>"
      ]
     },
     "execution_count": 33,
     "metadata": {},
     "output_type": "execute_result"
    },
    {
     "data": {
      "image/png": "[encoded data removed]",
      "text/plain": [
       "<Figure size 432x288 with 1 Axes>"
      ]
     },
     "metadata": {
      "needs_background": "light"
     },
     "output_type": "display_data"
    }
   ],
   "source": [
    "banks.plot(kind=\"scatter\",x='age', y=\"balance\")"
   ]
  },
  {
   "cell_type": "code",
   "execution_count": 34,
   "metadata": {},
   "outputs": [
    {
     "data": {
      "text/plain": [
       "<AxesSubplot:xlabel='age', ylabel='duration'>"
      ]
     },
     "execution_count": 34,
     "metadata": {},
     "output_type": "execute_result"
    },
    {
     "data": {
      "image/png": "[encoded data removed]",
      "text/plain": [
       "<Figure size 432x288 with 1 Axes>"
      ]
     },
     "metadata": {
      "needs_background": "light"
     },
     "output_type": "display_data"
    }
   ],
   "source": [
    "banks.plot(kind=\"scatter\",x='age', y=\"duration\")"
   ]
  },
  {
   "cell_type": "code",
   "execution_count": 35,
   "metadata": {},
   "outputs": [],
   "source": [
    "# banks.plot(kind=\"bar\",x='education', y=)"
   ]
  },
  {
   "cell_type": "code",
   "execution_count": null,
   "metadata": {},
   "outputs": [],
   "source": []
  },
  {
   "cell_type": "code",
   "execution_count": 36,
   "metadata": {},
   "outputs": [
    {
     "data": {
      "text/plain": [
       "(11162, 14)"
      ]
     },
     "execution_count": 36,
     "metadata": {},
     "output_type": "execute_result"
    }
   ],
   "source": [
    "banks.shape"
   ]
  },
  {
   "cell_type": "code",
   "execution_count": 37,
   "metadata": {},
   "outputs": [],
   "source": [
    "bank1=pd.get_dummies(banks, \n",
    "                     columns=[\"job\", \"marital\",\"education\", \"default\", \"housing\",\"loan\", \"poutcome\"],\n",
    "              drop_first=True)"
   ]
  },
  {
   "cell_type": "code",
   "execution_count": 38,
   "metadata": {},
   "outputs": [
    {
     "data": {
      "text/plain": [
       "(11162, 22)"
      ]
     },
     "execution_count": 38,
     "metadata": {},
     "output_type": "execute_result"
    }
   ],
   "source": [
    "bank1.shape"
   ]
  },
  {
   "cell_type": "code",
   "execution_count": 39,
   "metadata": {},
   "outputs": [
    {
     "data": {
      "text/plain": [
       "age                      int64\n",
       "balance                  int64\n",
       "duration                 int64\n",
       "campaign                 int64\n",
       "previous                 int64\n",
       "recent_pdays           float64\n",
       "deposit_cat              int64\n",
       "job_Pink-collar          uint8\n",
       "job_White-collar         uint8\n",
       "job_blue-collar          uint8\n",
       "job_self-depend          uint8\n",
       "job_technician           uint8\n",
       "marital_married          uint8\n",
       "marital_single           uint8\n",
       "education_secondary      uint8\n",
       "education_tertiary       uint8\n",
       "education_unknown        uint8\n",
       "default_yes              uint8\n",
       "housing_yes              uint8\n",
       "loan_yes                 uint8\n",
       "poutcome_others          uint8\n",
       "poutcome_success         uint8\n",
       "dtype: object"
      ]
     },
     "execution_count": 39,
     "metadata": {},
     "output_type": "execute_result"
    }
   ],
   "source": [
    "bank1.dtypes"
   ]
  },
  {
   "cell_type": "code",
   "execution_count": 40,
   "metadata": {},
   "outputs": [],
   "source": [
    "# cr=bank1.corr() "
   ]
  },
  {
   "cell_type": "code",
   "execution_count": 41,
   "metadata": {},
   "outputs": [],
   "source": [
    "# bank1.describe(percentiles=[.95, .96, .97, .98, .99]).T"
   ]
  },
  {
   "cell_type": "code",
   "execution_count": 42,
   "metadata": {},
   "outputs": [],
   "source": [
    "# cr.to_csv(\"corr1.csv\")"
   ]
  },
  {
   "cell_type": "code",
   "execution_count": 43,
   "metadata": {},
   "outputs": [],
   "source": [
    "# bank1.to_csv(\"bank1.csv\")"
   ]
  },
  {
   "cell_type": "code",
   "execution_count": 44,
   "metadata": {},
   "outputs": [
    {
     "data": {
      "text/plain": [
       "Index(['age', 'balance', 'duration', 'campaign', 'previous', 'recent_pdays',\n",
       "       'deposit_cat', 'job_Pink-collar', 'job_White-collar', 'job_blue-collar',\n",
       "       'job_self-depend', 'job_technician', 'marital_married',\n",
       "       'marital_single', 'education_secondary', 'education_tertiary',\n",
       "       'education_unknown', 'default_yes', 'housing_yes', 'loan_yes',\n",
       "       'poutcome_others', 'poutcome_success'],\n",
       "      dtype='object')"
      ]
     },
     "execution_count": 44,
     "metadata": {},
     "output_type": "execute_result"
    }
   ],
   "source": [
    "bank1.columns"
   ]
  },
  {
   "cell_type": "code",
   "execution_count": 45,
   "metadata": {},
   "outputs": [],
   "source": [
    "X=bank1.drop(columns=[\"deposit_cat\"])\n",
    "y=bank1[\"deposit_cat\"] "
   ]
  },
  {
   "cell_type": "code",
   "execution_count": 46,
   "metadata": {},
   "outputs": [],
   "source": [
    "X_train, X_test, y_train, y_test=train_test_split(X,y, test_size=0.2, random_state=0)"
   ]
  },
  {
   "cell_type": "code",
   "execution_count": 47,
   "metadata": {},
   "outputs": [],
   "source": [
    "from sklearn.tree import DecisionTreeClassifier"
   ]
  },
  {
   "cell_type": "code",
   "execution_count": 48,
   "metadata": {},
   "outputs": [
    {
     "name": "stdout",
     "output_type": "stream",
     "text": [
      "Train_accuracy 1.0\n",
      "Test_accuracy 0.7250335871025526\n"
     ]
    }
   ],
   "source": [
    "dt1=DecisionTreeClassifier()\n",
    "dt1.fit(X_train ,y_train)\n",
    "\n",
    "print(\"Train_accuracy\" , dt1.score(X_train, y_train))\n",
    "print(\"Test_accuracy\" , dt1.score(X_test, y_test))\n"
   ]
  },
  {
   "cell_type": "code",
   "execution_count": 49,
   "metadata": {},
   "outputs": [],
   "source": [
    "# help(dt1)"
   ]
  },
  {
   "cell_type": "code",
   "execution_count": 50,
   "metadata": {},
   "outputs": [
    {
     "name": "stdout",
     "output_type": "stream",
     "text": [
      "Train_accuracy 1.0\n",
      "Test_accuracy 0.7339901477832512\n"
     ]
    }
   ],
   "source": [
    "dt1=DecisionTreeClassifier(criterion=\"entropy\")\n",
    "dt1.fit(X_train ,y_train)\n",
    "\n",
    "print(\"Train_accuracy\" , dt1.score(X_train, y_train))\n",
    "print(\"Test_accuracy\" , dt1.score(X_test, y_test))"
   ]
  },
  {
   "cell_type": "code",
   "execution_count": null,
   "metadata": {},
   "outputs": [],
   "source": []
  },
  {
   "cell_type": "code",
   "execution_count": null,
   "metadata": {},
   "outputs": [],
   "source": []
  },
  {
   "cell_type": "code",
   "execution_count": null,
   "metadata": {},
   "outputs": [],
   "source": []
  },
  {
   "cell_type": "code",
   "execution_count": 51,
   "metadata": {},
   "outputs": [],
   "source": [
    "# max_depth, min_samples_split, min_samples_leaf, creterion "
   ]
  },
  {
   "cell_type": "code",
   "execution_count": 52,
   "metadata": {},
   "outputs": [
    {
     "name": "stdout",
     "output_type": "stream",
     "text": [
      "Train_accuracy 0.896404972561317\n",
      "Test_accuracy 0.7819077474249888\n"
     ]
    }
   ],
   "source": [
    "dt2=DecisionTreeClassifier(max_depth=12)\n",
    "dt2.fit(X_train ,y_train)\n",
    "\n",
    "print(\"Train_accuracy\" , dt2.score(X_train, y_train))\n",
    "print(\"Test_accuracy\" , dt2.score(X_test, y_test))"
   ]
  },
  {
   "cell_type": "code",
   "execution_count": 53,
   "metadata": {},
   "outputs": [
    {
     "data": {
      "image/png": "[encoded data removed]",
      "text/plain": [
       "<Figure size 1500x1500 with 1 Axes>"
      ]
     },
     "metadata": {
      "needs_background": "light"
     },
     "output_type": "display_data"
    }
   ],
   "source": [
    "from sklearn.tree import plot_tree\n",
    "\n",
    "fn=X_train.columns\n",
    "\n",
    "cn=[\"yes\",\"no\"] \n",
    "\n",
    "# Setting dpi = 300 to make image clearer than default\n",
    "fig, axes = plt.subplots(nrows = 1,ncols = 1,figsize = (3,3), dpi=500)\n",
    "\n",
    "plot_tree(dt2,\n",
    "           feature_names = fn, \n",
    "           class_names=cn,\n",
    "           filled = True);"
   ]
  },
  {
   "cell_type": "code",
   "execution_count": 54,
   "metadata": {},
   "outputs": [],
   "source": [
    "from sklearn import tree \n",
    "rules=tree.export_text(dt2, feature_names=X_train.columns.to_list())"
   ]
  },
  {
   "cell_type": "code",
   "execution_count": 55,
   "metadata": {},
   "outputs": [
    {
     "name": "stdout",
     "output_type": "stream",
     "text": [
      "|--- duration <= 206.50\n",
      "|   |--- poutcome_success <= 0.50\n",
      "|   |   |--- duration <= 124.50\n",
      "|   |   |   |--- duration <= 77.50\n",
      "|   |   |   |   |--- age <= 71.50\n",
      "|   |   |   |   |   |--- previous <= 4.50\n",
      "|   |   |   |   |   |   |--- recent_pdays <= 0.01\n",
      "|   |   |   |   |   |   |   |--- education_tertiary <= 0.50\n",
      "|   |   |   |   |   |   |   |   |--- age <= 29.50\n",
      "|   |   |   |   |   |   |   |   |   |--- balance <= 332.50\n",
      "|   |   |   |   |   |   |   |   |   |   |--- class: 0\n",
      "|   |   |   |   |   |   |   |   |   |--- balance >  332.50\n",
      "|   |   |   |   |   |   |   |   |   |   |--- balance <= 338.00\n",
      "|   |   |   |   |   |   |   |   |   |   |   |--- class: 1\n",
      "|   |   |   |   |   |   |   |   |   |   |--- balance >  338.00\n",
      "|   |   |   |   |   |   |   |   |   |   |   |--- truncated branch of depth 2\n",
      "|   |   |   |   |   |   |   |   |--- age >  29.50\n",
      "|   |   |   |   |   |   |   |   |   |--- class: 0\n",
      "|   |   |   |   |   |   |   |--- education_tertiary >  0.50\n",
      "|   |   |   |   |   |   |   |   |--- loan_yes <= 0.50\n",
      "|   |   |   |   |   |   |   |   |   |--- duration <= 62.50\n",
      "|   |   |   |   |   |   |   |   |   |   |--- class: 0\n",
      "|   |   |   |   |   |   |   |   |   |--- duration >  62.50\n",
      "|   |   |   |   |   |   |   |   |   |   |--- balance <= 8591.00\n",
      "|   |   |   |   |   |   |   |   |   |   |   |--- truncated branch of depth 2\n",
      "|   |   |   |   |   |   |   |   |   |   |--- balance >  8591.00\n",
      "|   |   |   |   |   |   |   |   |   |   |   |--- truncated branch of depth 2\n",
      "|   |   |   |   |   |   |   |   |--- loan_yes >  0.50\n",
      "|   |   |   |   |   |   |   |   |   |--- age <= 56.00\n",
      "|   |   |   |   |   |   |   |   |   |   |--- campaign <= 1.50\n",
      "|   |   |   |   |   |   |   |   |   |   |   |--- truncated branch of depth 2\n",
      "|   |   |   |   |   |   |   |   |   |   |--- campaign >  1.50\n",
      "|   |   |   |   |   |   |   |   |   |   |   |--- class: 0\n",
      "|   |   |   |   |   |   |   |   |   |--- age >  56.00\n",
      "|   |   |   |   |   |   |   |   |   |   |--- class: 1\n",
      "|   |   |   |   |   |   |--- recent_pdays >  0.01\n",
      "|   |   |   |   |   |   |   |--- recent_pdays <= 0.01\n",
      "|   |   |   |   |   |   |   |   |--- class: 1\n",
      "|   |   |   |   |   |   |   |--- recent_pdays >  0.01\n",
      "|   |   |   |   |   |   |   |   |--- class: 0\n",
      "|   |   |   |   |   |--- previous >  4.50\n",
      "|   |   |   |   |   |   |--- duration <= 60.50\n",
      "|   |   |   |   |   |   |   |--- class: 0\n",
      "|   |   |   |   |   |   |--- duration >  60.50\n",
      "|   |   |   |   |   |   |   |--- previous <= 8.00\n",
      "|   |   |   |   |   |   |   |   |--- recent_pdays <= 0.01\n",
      "|   |   |   |   |   |   |   |   |   |--- class: 1\n",
      "|   |   |   |   |   |   |   |   |--- recent_pdays >  0.01\n",
      "|   |   |   |   |   |   |   |   |   |--- class: 0\n",
      "|   |   |   |   |   |   |   |--- previous >  8.00\n",
      "|   |   |   |   |   |   |   |   |--- class: 0\n",
      "|   |   |   |   |--- age >  71.50\n",
      "|   |   |   |   |   |--- balance <= 1625.50\n",
      "|   |   |   |   |   |   |--- class: 0\n",
      "|   |   |   |   |   |--- balance >  1625.50\n",
      "|   |   |   |   |   |   |--- class: 1\n",
      "|   |   |   |--- duration >  77.50\n",
      "|   |   |   |   |--- housing_yes <= 0.50\n",
      "|   |   |   |   |   |--- age <= 28.50\n",
      "|   |   |   |   |   |   |--- loan_yes <= 0.50\n",
      "|   |   |   |   |   |   |   |--- previous <= 0.50\n",
      "|   |   |   |   |   |   |   |   |--- education_secondary <= 0.50\n",
      "|   |   |   |   |   |   |   |   |   |--- balance <= 829.50\n",
      "|   |   |   |   |   |   |   |   |   |   |--- class: 1\n",
      "|   |   |   |   |   |   |   |   |   |--- balance >  829.50\n",
      "|   |   |   |   |   |   |   |   |   |   |--- balance <= 1977.50\n",
      "|   |   |   |   |   |   |   |   |   |   |   |--- class: 0\n",
      "|   |   |   |   |   |   |   |   |   |   |--- balance >  1977.50\n",
      "|   |   |   |   |   |   |   |   |   |   |   |--- truncated branch of depth 2\n",
      "|   |   |   |   |   |   |   |   |--- education_secondary >  0.50\n",
      "|   |   |   |   |   |   |   |   |   |--- age <= 22.50\n",
      "|   |   |   |   |   |   |   |   |   |   |--- class: 0\n",
      "|   |   |   |   |   |   |   |   |   |--- age >  22.50\n",
      "|   |   |   |   |   |   |   |   |   |   |--- balance <= 1079.00\n",
      "|   |   |   |   |   |   |   |   |   |   |   |--- truncated branch of depth 2\n",
      "|   |   |   |   |   |   |   |   |   |   |--- balance >  1079.00\n",
      "|   |   |   |   |   |   |   |   |   |   |   |--- class: 1\n",
      "|   |   |   |   |   |   |   |--- previous >  0.50\n",
      "|   |   |   |   |   |   |   |   |--- duration <= 88.00\n",
      "|   |   |   |   |   |   |   |   |   |--- class: 1\n",
      "|   |   |   |   |   |   |   |   |--- duration >  88.00\n",
      "|   |   |   |   |   |   |   |   |   |--- duration <= 114.00\n",
      "|   |   |   |   |   |   |   |   |   |   |--- class: 0\n",
      "|   |   |   |   |   |   |   |   |   |--- duration >  114.00\n",
      "|   |   |   |   |   |   |   |   |   |   |--- balance <= 597.50\n",
      "|   |   |   |   |   |   |   |   |   |   |   |--- class: 1\n",
      "|   |   |   |   |   |   |   |   |   |   |--- balance >  597.50\n",
      "|   |   |   |   |   |   |   |   |   |   |   |--- truncated branch of depth 2\n",
      "|   |   |   |   |   |   |--- loan_yes >  0.50\n",
      "|   |   |   |   |   |   |   |--- class: 0\n",
      "|   |   |   |   |   |--- age >  28.50\n",
      "|   |   |   |   |   |   |--- balance <= 5.50\n",
      "|   |   |   |   |   |   |   |--- class: 0\n",
      "|   |   |   |   |   |   |--- balance >  5.50\n",
      "|   |   |   |   |   |   |   |--- campaign <= 1.50\n",
      "|   |   |   |   |   |   |   |   |--- duration <= 109.50\n",
      "|   |   |   |   |   |   |   |   |   |--- age <= 45.50\n",
      "|   |   |   |   |   |   |   |   |   |   |--- age <= 34.50\n",
      "|   |   |   |   |   |   |   |   |   |   |   |--- truncated branch of depth 2\n",
      "|   |   |   |   |   |   |   |   |   |   |--- age >  34.50\n",
      "|   |   |   |   |   |   |   |   |   |   |   |--- class: 0\n",
      "|   |   |   |   |   |   |   |   |   |--- age >  45.50\n",
      "|   |   |   |   |   |   |   |   |   |   |--- duration <= 82.50\n",
      "|   |   |   |   |   |   |   |   |   |   |   |--- truncated branch of depth 2\n",
      "|   |   |   |   |   |   |   |   |   |   |--- duration >  82.50\n",
      "|   |   |   |   |   |   |   |   |   |   |   |--- truncated branch of depth 2\n",
      "|   |   |   |   |   |   |   |   |--- duration >  109.50\n",
      "|   |   |   |   |   |   |   |   |   |--- balance <= 7798.50\n",
      "|   |   |   |   |   |   |   |   |   |   |--- age <= 35.50\n",
      "|   |   |   |   |   |   |   |   |   |   |   |--- truncated branch of depth 2\n",
      "|   |   |   |   |   |   |   |   |   |   |--- age >  35.50\n",
      "|   |   |   |   |   |   |   |   |   |   |   |--- truncated branch of depth 2\n",
      "|   |   |   |   |   |   |   |   |   |--- balance >  7798.50\n",
      "|   |   |   |   |   |   |   |   |   |   |--- class: 1\n",
      "|   |   |   |   |   |   |   |--- campaign >  1.50\n",
      "|   |   |   |   |   |   |   |   |--- age <= 65.50\n",
      "|   |   |   |   |   |   |   |   |   |--- balance <= 9.50\n",
      "|   |   |   |   |   |   |   |   |   |   |--- duration <= 87.50\n",
      "|   |   |   |   |   |   |   |   |   |   |   |--- class: 0\n",
      "|   |   |   |   |   |   |   |   |   |   |--- duration >  87.50\n",
      "|   |   |   |   |   |   |   |   |   |   |   |--- class: 1\n",
      "|   |   |   |   |   |   |   |   |   |--- balance >  9.50\n",
      "|   |   |   |   |   |   |   |   |   |   |--- duration <= 78.50\n",
      "|   |   |   |   |   |   |   |   |   |   |   |--- truncated branch of depth 2\n",
      "|   |   |   |   |   |   |   |   |   |   |--- duration >  78.50\n",
      "|   |   |   |   |   |   |   |   |   |   |   |--- truncated branch of depth 2\n",
      "|   |   |   |   |   |   |   |   |--- age >  65.50\n",
      "|   |   |   |   |   |   |   |   |   |--- balance <= 1612.00\n",
      "|   |   |   |   |   |   |   |   |   |   |--- class: 0\n",
      "|   |   |   |   |   |   |   |   |   |--- balance >  1612.00\n",
      "|   |   |   |   |   |   |   |   |   |   |--- class: 1\n",
      "|   |   |   |   |--- housing_yes >  0.50\n",
      "|   |   |   |   |   |--- recent_pdays <= 0.01\n",
      "|   |   |   |   |   |   |--- education_tertiary <= 0.50\n",
      "|   |   |   |   |   |   |   |--- balance <= 10145.50\n",
      "|   |   |   |   |   |   |   |   |--- recent_pdays <= 0.01\n",
      "|   |   |   |   |   |   |   |   |   |--- balance <= 194.00\n",
      "|   |   |   |   |   |   |   |   |   |   |--- recent_pdays <= 0.00\n",
      "|   |   |   |   |   |   |   |   |   |   |   |--- class: 0\n",
      "|   |   |   |   |   |   |   |   |   |   |--- recent_pdays >  0.00\n",
      "|   |   |   |   |   |   |   |   |   |   |   |--- truncated branch of depth 2\n",
      "|   |   |   |   |   |   |   |   |   |--- balance >  194.00\n",
      "|   |   |   |   |   |   |   |   |   |   |--- balance <= 197.00\n",
      "|   |   |   |   |   |   |   |   |   |   |   |--- class: 1\n",
      "|   |   |   |   |   |   |   |   |   |   |--- balance >  197.00\n",
      "|   |   |   |   |   |   |   |   |   |   |   |--- truncated branch of depth 2\n",
      "|   |   |   |   |   |   |   |   |--- recent_pdays >  0.01\n",
      "|   |   |   |   |   |   |   |   |   |--- duration <= 102.00\n",
      "|   |   |   |   |   |   |   |   |   |   |--- class: 0\n",
      "|   |   |   |   |   |   |   |   |   |--- duration >  102.00\n",
      "|   |   |   |   |   |   |   |   |   |   |--- class: 1\n",
      "|   |   |   |   |   |   |   |--- balance >  10145.50\n",
      "|   |   |   |   |   |   |   |   |--- campaign <= 3.00\n",
      "|   |   |   |   |   |   |   |   |   |--- class: 1\n",
      "|   |   |   |   |   |   |   |   |--- campaign >  3.00\n",
      "|   |   |   |   |   |   |   |   |   |--- class: 0\n",
      "|   |   |   |   |   |   |--- education_tertiary >  0.50\n",
      "|   |   |   |   |   |   |   |--- campaign <= 1.50\n",
      "|   |   |   |   |   |   |   |   |--- balance <= 545.50\n",
      "|   |   |   |   |   |   |   |   |   |--- job_self-depend <= 0.50\n",
      "|   |   |   |   |   |   |   |   |   |   |--- class: 0\n",
      "|   |   |   |   |   |   |   |   |   |--- job_self-depend >  0.50\n",
      "|   |   |   |   |   |   |   |   |   |   |--- age <= 35.50\n",
      "|   |   |   |   |   |   |   |   |   |   |   |--- truncated branch of depth 2\n",
      "|   |   |   |   |   |   |   |   |   |   |--- age >  35.50\n",
      "|   |   |   |   |   |   |   |   |   |   |   |--- class: 0\n",
      "|   |   |   |   |   |   |   |   |--- balance >  545.50\n",
      "|   |   |   |   |   |   |   |   |   |--- balance <= 1151.50\n",
      "|   |   |   |   |   |   |   |   |   |   |--- age <= 44.50\n",
      "|   |   |   |   |   |   |   |   |   |   |   |--- truncated branch of depth 2\n",
      "|   |   |   |   |   |   |   |   |   |   |--- age >  44.50\n",
      "|   |   |   |   |   |   |   |   |   |   |   |--- class: 0\n",
      "|   |   |   |   |   |   |   |   |   |--- balance >  1151.50\n",
      "|   |   |   |   |   |   |   |   |   |   |--- duration <= 120.50\n",
      "|   |   |   |   |   |   |   |   |   |   |   |--- truncated branch of depth 2\n",
      "|   |   |   |   |   |   |   |   |   |   |--- duration >  120.50\n",
      "|   |   |   |   |   |   |   |   |   |   |   |--- class: 1\n",
      "|   |   |   |   |   |   |   |--- campaign >  1.50\n",
      "|   |   |   |   |   |   |   |   |--- balance <= 167.50\n",
      "|   |   |   |   |   |   |   |   |   |--- balance <= 137.00\n",
      "|   |   |   |   |   |   |   |   |   |   |--- duration <= 116.50\n",
      "|   |   |   |   |   |   |   |   |   |   |   |--- truncated branch of depth 2\n",
      "|   |   |   |   |   |   |   |   |   |   |--- duration >  116.50\n",
      "|   |   |   |   |   |   |   |   |   |   |   |--- truncated branch of depth 2\n",
      "|   |   |   |   |   |   |   |   |   |--- balance >  137.00\n",
      "|   |   |   |   |   |   |   |   |   |   |--- class: 1\n",
      "|   |   |   |   |   |   |   |   |--- balance >  167.50\n",
      "|   |   |   |   |   |   |   |   |   |--- duration <= 80.50\n",
      "|   |   |   |   |   |   |   |   |   |   |--- age <= 35.00\n",
      "|   |   |   |   |   |   |   |   |   |   |   |--- class: 1\n",
      "|   |   |   |   |   |   |   |   |   |   |--- age >  35.00\n",
      "|   |   |   |   |   |   |   |   |   |   |   |--- class: 0\n",
      "|   |   |   |   |   |   |   |   |   |--- duration >  80.50\n",
      "|   |   |   |   |   |   |   |   |   |   |--- class: 0\n",
      "|   |   |   |   |   |--- recent_pdays >  0.01\n",
      "|   |   |   |   |   |   |--- recent_pdays <= 0.01\n",
      "|   |   |   |   |   |   |   |--- class: 1\n",
      "|   |   |   |   |   |   |--- recent_pdays >  0.01\n",
      "|   |   |   |   |   |   |   |--- balance <= 1800.00\n",
      "|   |   |   |   |   |   |   |   |--- recent_pdays <= 0.04\n",
      "|   |   |   |   |   |   |   |   |   |--- class: 0\n",
      "|   |   |   |   |   |   |   |   |--- recent_pdays >  0.04\n",
      "|   |   |   |   |   |   |   |   |   |--- class: 1\n",
      "|   |   |   |   |   |   |   |--- balance >  1800.00\n",
      "|   |   |   |   |   |   |   |   |--- age <= 31.50\n",
      "|   |   |   |   |   |   |   |   |   |--- class: 0\n",
      "|   |   |   |   |   |   |   |   |--- age >  31.50\n",
      "|   |   |   |   |   |   |   |   |   |--- class: 1\n",
      "|   |   |--- duration >  124.50\n",
      "|   |   |   |--- housing_yes <= 0.50\n",
      "|   |   |   |   |--- balance <= 158.50\n",
      "|   |   |   |   |   |--- age <= 26.50\n",
      "|   |   |   |   |   |   |--- balance <= 6.00\n",
      "|   |   |   |   |   |   |   |--- campaign <= 1.50\n",
      "|   |   |   |   |   |   |   |   |--- class: 1\n",
      "|   |   |   |   |   |   |   |--- campaign >  1.50\n",
      "|   |   |   |   |   |   |   |   |--- class: 0\n",
      "|   |   |   |   |   |   |--- balance >  6.00\n",
      "|   |   |   |   |   |   |   |--- class: 1\n",
      "|   |   |   |   |   |--- age >  26.50\n",
      "|   |   |   |   |   |   |--- poutcome_others <= 0.50\n",
      "|   |   |   |   |   |   |   |--- loan_yes <= 0.50\n",
      "|   |   |   |   |   |   |   |   |--- duration <= 142.00\n",
      "|   |   |   |   |   |   |   |   |   |--- class: 0\n",
      "|   |   |   |   |   |   |   |   |--- duration >  142.00\n",
      "|   |   |   |   |   |   |   |   |   |--- age <= 60.00\n",
      "|   |   |   |   |   |   |   |   |   |   |--- job_White-collar <= 0.50\n",
      "|   |   |   |   |   |   |   |   |   |   |   |--- class: 1\n",
      "|   |   |   |   |   |   |   |   |   |   |--- job_White-collar >  0.50\n",
      "|   |   |   |   |   |   |   |   |   |   |   |--- truncated branch of depth 2\n",
      "|   |   |   |   |   |   |   |   |   |--- age >  60.00\n",
      "|   |   |   |   |   |   |   |   |   |   |--- class: 0\n",
      "|   |   |   |   |   |   |   |--- loan_yes >  0.50\n",
      "|   |   |   |   |   |   |   |   |--- class: 0\n",
      "|   |   |   |   |   |   |--- poutcome_others >  0.50\n",
      "|   |   |   |   |   |   |   |--- age <= 60.50\n",
      "|   |   |   |   |   |   |   |   |--- campaign <= 1.50\n",
      "|   |   |   |   |   |   |   |   |   |--- loan_yes <= 0.50\n",
      "|   |   |   |   |   |   |   |   |   |   |--- balance <= 17.50\n",
      "|   |   |   |   |   |   |   |   |   |   |   |--- truncated branch of depth 2\n",
      "|   |   |   |   |   |   |   |   |   |   |--- balance >  17.50\n",
      "|   |   |   |   |   |   |   |   |   |   |   |--- truncated branch of depth 2\n",
      "|   |   |   |   |   |   |   |   |   |--- loan_yes >  0.50\n",
      "|   |   |   |   |   |   |   |   |   |   |--- class: 0\n",
      "|   |   |   |   |   |   |   |   |--- campaign >  1.50\n",
      "|   |   |   |   |   |   |   |   |   |--- job_technician <= 0.50\n",
      "|   |   |   |   |   |   |   |   |   |   |--- age <= 34.50\n",
      "|   |   |   |   |   |   |   |   |   |   |   |--- truncated branch of depth 2\n",
      "|   |   |   |   |   |   |   |   |   |   |--- age >  34.50\n",
      "|   |   |   |   |   |   |   |   |   |   |   |--- class: 0\n",
      "|   |   |   |   |   |   |   |   |   |--- job_technician >  0.50\n",
      "|   |   |   |   |   |   |   |   |   |   |--- balance <= 56.50\n",
      "|   |   |   |   |   |   |   |   |   |   |   |--- truncated branch of depth 2\n",
      "|   |   |   |   |   |   |   |   |   |   |--- balance >  56.50\n",
      "|   |   |   |   |   |   |   |   |   |   |   |--- truncated branch of depth 2\n",
      "|   |   |   |   |   |   |   |--- age >  60.50\n",
      "|   |   |   |   |   |   |   |   |--- balance <= 2.50\n",
      "|   |   |   |   |   |   |   |   |   |--- class: 1\n",
      "|   |   |   |   |   |   |   |   |--- balance >  2.50\n",
      "|   |   |   |   |   |   |   |   |   |--- age <= 61.50\n",
      "|   |   |   |   |   |   |   |   |   |   |--- class: 1\n",
      "|   |   |   |   |   |   |   |   |   |--- age >  61.50\n",
      "|   |   |   |   |   |   |   |   |   |   |--- class: 0\n",
      "|   |   |   |   |--- balance >  158.50\n",
      "|   |   |   |   |   |--- campaign <= 2.50\n",
      "|   |   |   |   |   |   |--- age <= 30.50\n",
      "|   |   |   |   |   |   |   |--- recent_pdays <= 0.11\n",
      "|   |   |   |   |   |   |   |   |--- loan_yes <= 0.50\n",
      "|   |   |   |   |   |   |   |   |   |--- education_unknown <= 0.50\n",
      "|   |   |   |   |   |   |   |   |   |   |--- job_blue-collar <= 0.50\n",
      "|   |   |   |   |   |   |   |   |   |   |   |--- truncated branch of depth 2\n",
      "|   |   |   |   |   |   |   |   |   |   |--- job_blue-collar >  0.50\n",
      "|   |   |   |   |   |   |   |   |   |   |   |--- truncated branch of depth 2\n",
      "|   |   |   |   |   |   |   |   |   |--- education_unknown >  0.50\n",
      "|   |   |   |   |   |   |   |   |   |   |--- duration <= 151.50\n",
      "|   |   |   |   |   |   |   |   |   |   |   |--- class: 1\n",
      "|   |   |   |   |   |   |   |   |   |   |--- duration >  151.50\n",
      "|   |   |   |   |   |   |   |   |   |   |   |--- truncated branch of depth 2\n",
      "|   |   |   |   |   |   |   |   |--- loan_yes >  0.50\n",
      "|   |   |   |   |   |   |   |   |   |--- balance <= 409.50\n",
      "|   |   |   |   |   |   |   |   |   |   |--- job_blue-collar <= 0.50\n",
      "|   |   |   |   |   |   |   |   |   |   |   |--- class: 0\n",
      "|   |   |   |   |   |   |   |   |   |   |--- job_blue-collar >  0.50\n",
      "|   |   |   |   |   |   |   |   |   |   |   |--- class: 1\n",
      "|   |   |   |   |   |   |   |   |   |--- balance >  409.50\n",
      "|   |   |   |   |   |   |   |   |   |   |--- class: 1\n",
      "|   |   |   |   |   |   |   |--- recent_pdays >  0.11\n",
      "|   |   |   |   |   |   |   |   |--- class: 0\n",
      "|   |   |   |   |   |   |--- age >  30.50\n",
      "|   |   |   |   |   |   |   |--- recent_pdays <= 0.00\n",
      "|   |   |   |   |   |   |   |   |--- age <= 60.50\n",
      "|   |   |   |   |   |   |   |   |   |--- balance <= 3900.00\n",
      "|   |   |   |   |   |   |   |   |   |   |--- age <= 43.50\n",
      "|   |   |   |   |   |   |   |   |   |   |   |--- truncated branch of depth 2\n",
      "|   |   |   |   |   |   |   |   |   |   |--- age >  43.50\n",
      "|   |   |   |   |   |   |   |   |   |   |   |--- truncated branch of depth 2\n",
      "|   |   |   |   |   |   |   |   |   |--- balance >  3900.00\n",
      "|   |   |   |   |   |   |   |   |   |   |--- balance <= 4439.00\n",
      "|   |   |   |   |   |   |   |   |   |   |   |--- class: 1\n",
      "|   |   |   |   |   |   |   |   |   |   |--- balance >  4439.00\n",
      "|   |   |   |   |   |   |   |   |   |   |   |--- truncated branch of depth 2\n",
      "|   |   |   |   |   |   |   |   |--- age >  60.50\n",
      "|   |   |   |   |   |   |   |   |   |--- education_tertiary <= 0.50\n",
      "|   |   |   |   |   |   |   |   |   |   |--- job_Pink-collar <= 0.50\n",
      "|   |   |   |   |   |   |   |   |   |   |   |--- truncated branch of depth 2\n",
      "|   |   |   |   |   |   |   |   |   |   |--- job_Pink-collar >  0.50\n",
      "|   |   |   |   |   |   |   |   |   |   |   |--- class: 0\n",
      "|   |   |   |   |   |   |   |   |   |--- education_tertiary >  0.50\n",
      "|   |   |   |   |   |   |   |   |   |   |--- balance <= 2453.00\n",
      "|   |   |   |   |   |   |   |   |   |   |   |--- class: 1\n",
      "|   |   |   |   |   |   |   |   |   |   |--- balance >  2453.00\n",
      "|   |   |   |   |   |   |   |   |   |   |   |--- truncated branch of depth 2\n",
      "|   |   |   |   |   |   |   |--- recent_pdays >  0.00\n",
      "|   |   |   |   |   |   |   |   |--- recent_pdays <= 0.03\n",
      "|   |   |   |   |   |   |   |   |   |--- balance <= 6486.50\n",
      "|   |   |   |   |   |   |   |   |   |   |--- duration <= 125.50\n",
      "|   |   |   |   |   |   |   |   |   |   |   |--- class: 0\n",
      "|   |   |   |   |   |   |   |   |   |   |--- duration >  125.50\n",
      "|   |   |   |   |   |   |   |   |   |   |   |--- truncated branch of depth 2\n",
      "|   |   |   |   |   |   |   |   |   |--- balance >  6486.50\n",
      "|   |   |   |   |   |   |   |   |   |   |--- recent_pdays <= 0.01\n",
      "|   |   |   |   |   |   |   |   |   |   |   |--- class: 1\n",
      "|   |   |   |   |   |   |   |   |   |   |--- recent_pdays >  0.01\n",
      "|   |   |   |   |   |   |   |   |   |   |   |--- class: 0\n",
      "|   |   |   |   |   |   |   |   |--- recent_pdays >  0.03\n",
      "|   |   |   |   |   |   |   |   |   |--- class: 0\n",
      "|   |   |   |   |   |--- campaign >  2.50\n",
      "|   |   |   |   |   |   |--- previous <= 0.50\n",
      "|   |   |   |   |   |   |   |--- age <= 25.00\n",
      "|   |   |   |   |   |   |   |   |--- campaign <= 5.50\n",
      "|   |   |   |   |   |   |   |   |   |--- class: 1\n",
      "|   |   |   |   |   |   |   |   |--- campaign >  5.50\n",
      "|   |   |   |   |   |   |   |   |   |--- class: 0\n",
      "|   |   |   |   |   |   |   |--- age >  25.00\n",
      "|   |   |   |   |   |   |   |   |--- age <= 59.50\n",
      "|   |   |   |   |   |   |   |   |   |--- education_secondary <= 0.50\n",
      "|   |   |   |   |   |   |   |   |   |   |--- age <= 28.50\n",
      "|   |   |   |   |   |   |   |   |   |   |   |--- class: 1\n",
      "|   |   |   |   |   |   |   |   |   |   |--- age >  28.50\n",
      "|   |   |   |   |   |   |   |   |   |   |   |--- truncated branch of depth 2\n",
      "|   |   |   |   |   |   |   |   |   |--- education_secondary >  0.50\n",
      "|   |   |   |   |   |   |   |   |   |   |--- campaign <= 3.50\n",
      "|   |   |   |   |   |   |   |   |   |   |   |--- truncated branch of depth 2\n",
      "|   |   |   |   |   |   |   |   |   |   |--- campaign >  3.50\n",
      "|   |   |   |   |   |   |   |   |   |   |   |--- class: 0\n",
      "|   |   |   |   |   |   |   |   |--- age >  59.50\n",
      "|   |   |   |   |   |   |   |   |   |--- age <= 76.50\n",
      "|   |   |   |   |   |   |   |   |   |   |--- balance <= 3367.00\n",
      "|   |   |   |   |   |   |   |   |   |   |   |--- class: 1\n",
      "|   |   |   |   |   |   |   |   |   |   |--- balance >  3367.00\n",
      "|   |   |   |   |   |   |   |   |   |   |   |--- truncated branch of depth 2\n",
      "|   |   |   |   |   |   |   |   |   |--- age >  76.50\n",
      "|   |   |   |   |   |   |   |   |   |   |--- class: 0\n",
      "|   |   |   |   |   |   |--- previous >  0.50\n",
      "|   |   |   |   |   |   |   |--- duration <= 171.00\n",
      "|   |   |   |   |   |   |   |   |--- campaign <= 3.50\n",
      "|   |   |   |   |   |   |   |   |   |--- education_tertiary <= 0.50\n",
      "|   |   |   |   |   |   |   |   |   |   |--- class: 1\n",
      "|   |   |   |   |   |   |   |   |   |--- education_tertiary >  0.50\n",
      "|   |   |   |   |   |   |   |   |   |   |--- job_technician <= 0.50\n",
      "|   |   |   |   |   |   |   |   |   |   |   |--- class: 0\n",
      "|   |   |   |   |   |   |   |   |   |   |--- job_technician >  0.50\n",
      "|   |   |   |   |   |   |   |   |   |   |   |--- class: 1\n",
      "|   |   |   |   |   |   |   |   |--- campaign >  3.50\n",
      "|   |   |   |   |   |   |   |   |   |--- class: 0\n",
      "|   |   |   |   |   |   |   |--- duration >  171.00\n",
      "|   |   |   |   |   |   |   |   |--- campaign <= 6.50\n",
      "|   |   |   |   |   |   |   |   |   |--- class: 1\n",
      "|   |   |   |   |   |   |   |   |--- campaign >  6.50\n",
      "|   |   |   |   |   |   |   |   |   |--- class: 0\n",
      "|   |   |   |--- housing_yes >  0.50\n",
      "|   |   |   |   |--- recent_pdays <= 0.00\n",
      "|   |   |   |   |   |--- age <= 60.50\n",
      "|   |   |   |   |   |   |--- balance <= 11024.50\n",
      "|   |   |   |   |   |   |   |--- campaign <= 1.50\n",
      "|   |   |   |   |   |   |   |   |--- balance <= 976.50\n",
      "|   |   |   |   |   |   |   |   |   |--- balance <= 1.00\n",
      "|   |   |   |   |   |   |   |   |   |   |--- education_tertiary <= 0.50\n",
      "|   |   |   |   |   |   |   |   |   |   |   |--- class: 0\n",
      "|   |   |   |   |   |   |   |   |   |   |--- education_tertiary >  0.50\n",
      "|   |   |   |   |   |   |   |   |   |   |   |--- truncated branch of depth 2\n",
      "|   |   |   |   |   |   |   |   |   |--- balance >  1.00\n",
      "|   |   |   |   |   |   |   |   |   |   |--- balance <= 133.50\n",
      "|   |   |   |   |   |   |   |   |   |   |   |--- truncated branch of depth 2\n",
      "|   |   |   |   |   |   |   |   |   |   |--- balance >  133.50\n",
      "|   |   |   |   |   |   |   |   |   |   |   |--- truncated branch of depth 2\n",
      "|   |   |   |   |   |   |   |   |--- balance >  976.50\n",
      "|   |   |   |   |   |   |   |   |   |--- balance <= 1324.50\n",
      "|   |   |   |   |   |   |   |   |   |   |--- duration <= 179.00\n",
      "|   |   |   |   |   |   |   |   |   |   |   |--- truncated branch of depth 2\n",
      "|   |   |   |   |   |   |   |   |   |   |--- duration >  179.00\n",
      "|   |   |   |   |   |   |   |   |   |   |   |--- truncated branch of depth 2\n",
      "|   |   |   |   |   |   |   |   |   |--- balance >  1324.50\n",
      "|   |   |   |   |   |   |   |   |   |   |--- age <= 57.50\n",
      "|   |   |   |   |   |   |   |   |   |   |   |--- truncated branch of depth 2\n",
      "|   |   |   |   |   |   |   |   |   |   |--- age >  57.50\n",
      "|   |   |   |   |   |   |   |   |   |   |   |--- truncated branch of depth 2\n",
      "|   |   |   |   |   |   |   |--- campaign >  1.50\n",
      "|   |   |   |   |   |   |   |   |--- age <= 32.50\n",
      "|   |   |   |   |   |   |   |   |   |--- job_White-collar <= 0.50\n",
      "|   |   |   |   |   |   |   |   |   |   |--- age <= 29.50\n",
      "|   |   |   |   |   |   |   |   |   |   |   |--- class: 0\n",
      "|   |   |   |   |   |   |   |   |   |   |--- age >  29.50\n",
      "|   |   |   |   |   |   |   |   |   |   |   |--- truncated branch of depth 2\n",
      "|   |   |   |   |   |   |   |   |   |--- job_White-collar >  0.50\n",
      "|   |   |   |   |   |   |   |   |   |   |--- balance <= 88.50\n",
      "|   |   |   |   |   |   |   |   |   |   |   |--- truncated branch of depth 2\n",
      "|   |   |   |   |   |   |   |   |   |   |--- balance >  88.50\n",
      "|   |   |   |   |   |   |   |   |   |   |   |--- truncated branch of depth 2\n",
      "|   |   |   |   |   |   |   |   |--- age >  32.50\n",
      "|   |   |   |   |   |   |   |   |   |--- balance <= 1500.00\n",
      "|   |   |   |   |   |   |   |   |   |   |--- balance <= -670.50\n",
      "|   |   |   |   |   |   |   |   |   |   |   |--- truncated branch of depth 2\n",
      "|   |   |   |   |   |   |   |   |   |   |--- balance >  -670.50\n",
      "|   |   |   |   |   |   |   |   |   |   |   |--- truncated branch of depth 2\n",
      "|   |   |   |   |   |   |   |   |   |--- balance >  1500.00\n",
      "|   |   |   |   |   |   |   |   |   |   |--- balance <= 1745.50\n",
      "|   |   |   |   |   |   |   |   |   |   |   |--- truncated branch of depth 2\n",
      "|   |   |   |   |   |   |   |   |   |   |--- balance >  1745.50\n",
      "|   |   |   |   |   |   |   |   |   |   |   |--- truncated branch of depth 2\n",
      "|   |   |   |   |   |   |--- balance >  11024.50\n",
      "|   |   |   |   |   |   |   |--- marital_married <= 0.50\n",
      "|   |   |   |   |   |   |   |   |--- class: 1\n",
      "|   |   |   |   |   |   |   |--- marital_married >  0.50\n",
      "|   |   |   |   |   |   |   |   |--- age <= 54.00\n",
      "|   |   |   |   |   |   |   |   |   |--- class: 0\n",
      "|   |   |   |   |   |   |   |   |--- age >  54.00\n",
      "|   |   |   |   |   |   |   |   |   |--- class: 1\n",
      "|   |   |   |   |   |--- age >  60.50\n",
      "|   |   |   |   |   |   |--- class: 1\n",
      "|   |   |   |   |--- recent_pdays >  0.00\n",
      "|   |   |   |   |   |--- age <= 29.00\n",
      "|   |   |   |   |   |   |--- marital_single <= 0.50\n",
      "|   |   |   |   |   |   |   |--- class: 0\n",
      "|   |   |   |   |   |   |--- marital_single >  0.50\n",
      "|   |   |   |   |   |   |   |--- class: 1\n",
      "|   |   |   |   |   |--- age >  29.00\n",
      "|   |   |   |   |   |   |--- campaign <= 1.50\n",
      "|   |   |   |   |   |   |   |--- recent_pdays <= 0.01\n",
      "|   |   |   |   |   |   |   |   |--- poutcome_others <= 0.50\n",
      "|   |   |   |   |   |   |   |   |   |--- duration <= 168.50\n",
      "|   |   |   |   |   |   |   |   |   |   |--- balance <= 2952.50\n",
      "|   |   |   |   |   |   |   |   |   |   |   |--- truncated branch of depth 2\n",
      "|   |   |   |   |   |   |   |   |   |   |--- balance >  2952.50\n",
      "|   |   |   |   |   |   |   |   |   |   |   |--- class: 0\n",
      "|   |   |   |   |   |   |   |   |   |--- duration >  168.50\n",
      "|   |   |   |   |   |   |   |   |   |   |--- class: 0\n",
      "|   |   |   |   |   |   |   |   |--- poutcome_others >  0.50\n",
      "|   |   |   |   |   |   |   |   |   |--- previous <= 3.00\n",
      "|   |   |   |   |   |   |   |   |   |   |--- marital_married <= 0.50\n",
      "|   |   |   |   |   |   |   |   |   |   |   |--- class: 1\n",
      "|   |   |   |   |   |   |   |   |   |   |--- marital_married >  0.50\n",
      "|   |   |   |   |   |   |   |   |   |   |   |--- class: 0\n",
      "|   |   |   |   |   |   |   |   |   |--- previous >  3.00\n",
      "|   |   |   |   |   |   |   |   |   |   |--- class: 1\n",
      "|   |   |   |   |   |   |   |--- recent_pdays >  0.01\n",
      "|   |   |   |   |   |   |   |   |--- age <= 30.50\n",
      "|   |   |   |   |   |   |   |   |   |--- class: 0\n",
      "|   |   |   |   |   |   |   |   |--- age >  30.50\n",
      "|   |   |   |   |   |   |   |   |   |--- class: 1\n",
      "|   |   |   |   |   |   |--- campaign >  1.50\n",
      "|   |   |   |   |   |   |   |--- duration <= 125.50\n",
      "|   |   |   |   |   |   |   |   |--- class: 1\n",
      "|   |   |   |   |   |   |   |--- duration >  125.50\n",
      "|   |   |   |   |   |   |   |   |--- balance <= 3701.00\n",
      "|   |   |   |   |   |   |   |   |   |--- duration <= 170.50\n",
      "|   |   |   |   |   |   |   |   |   |   |--- class: 0\n",
      "|   |   |   |   |   |   |   |   |   |--- duration >  170.50\n",
      "|   |   |   |   |   |   |   |   |   |   |--- duration <= 175.50\n",
      "|   |   |   |   |   |   |   |   |   |   |   |--- class: 1\n",
      "|   |   |   |   |   |   |   |   |   |   |--- duration >  175.50\n",
      "|   |   |   |   |   |   |   |   |   |   |   |--- truncated branch of depth 2\n",
      "|   |   |   |   |   |   |   |   |--- balance >  3701.00\n",
      "|   |   |   |   |   |   |   |   |   |--- balance <= 6295.00\n",
      "|   |   |   |   |   |   |   |   |   |   |--- class: 1\n",
      "|   |   |   |   |   |   |   |   |   |--- balance >  6295.00\n",
      "|   |   |   |   |   |   |   |   |   |   |--- class: 0\n",
      "|   |--- poutcome_success >  0.50\n",
      "|   |   |--- duration <= 79.50\n",
      "|   |   |   |--- duration <= 62.50\n",
      "|   |   |   |   |--- loan_yes <= 0.50\n",
      "|   |   |   |   |   |--- class: 0\n",
      "|   |   |   |   |--- loan_yes >  0.50\n",
      "|   |   |   |   |   |--- class: 1\n",
      "|   |   |   |--- duration >  62.50\n",
      "|   |   |   |   |--- recent_pdays <= 0.01\n",
      "|   |   |   |   |   |--- class: 1\n",
      "|   |   |   |   |--- recent_pdays >  0.01\n",
      "|   |   |   |   |   |--- balance <= 1315.00\n",
      "|   |   |   |   |   |   |--- class: 0\n",
      "|   |   |   |   |   |--- balance >  1315.00\n",
      "|   |   |   |   |   |   |--- job_blue-collar <= 0.50\n",
      "|   |   |   |   |   |   |   |--- class: 1\n",
      "|   |   |   |   |   |   |--- job_blue-collar >  0.50\n",
      "|   |   |   |   |   |   |   |--- class: 0\n",
      "|   |   |--- duration >  79.50\n",
      "|   |   |   |--- duration <= 146.50\n",
      "|   |   |   |   |--- duration <= 145.50\n",
      "|   |   |   |   |   |--- balance <= 2979.50\n",
      "|   |   |   |   |   |   |--- balance <= 826.50\n",
      "|   |   |   |   |   |   |   |--- loan_yes <= 0.50\n",
      "|   |   |   |   |   |   |   |   |--- balance <= 147.50\n",
      "|   |   |   |   |   |   |   |   |   |--- balance <= 38.00\n",
      "|   |   |   |   |   |   |   |   |   |   |--- class: 1\n",
      "|   |   |   |   |   |   |   |   |   |--- balance >  38.00\n",
      "|   |   |   |   |   |   |   |   |   |   |--- recent_pdays <= 0.01\n",
      "|   |   |   |   |   |   |   |   |   |   |   |--- class: 1\n",
      "|   |   |   |   |   |   |   |   |   |   |--- recent_pdays >  0.01\n",
      "|   |   |   |   |   |   |   |   |   |   |   |--- class: 0\n",
      "|   |   |   |   |   |   |   |   |--- balance >  147.50\n",
      "|   |   |   |   |   |   |   |   |   |--- job_self-depend <= 0.50\n",
      "|   |   |   |   |   |   |   |   |   |   |--- class: 1\n",
      "|   |   |   |   |   |   |   |   |   |--- job_self-depend >  0.50\n",
      "|   |   |   |   |   |   |   |   |   |   |--- duration <= 108.00\n",
      "|   |   |   |   |   |   |   |   |   |   |   |--- class: 0\n",
      "|   |   |   |   |   |   |   |   |   |   |--- duration >  108.00\n",
      "|   |   |   |   |   |   |   |   |   |   |   |--- class: 1\n",
      "|   |   |   |   |   |   |   |--- loan_yes >  0.50\n",
      "|   |   |   |   |   |   |   |   |--- balance <= 153.50\n",
      "|   |   |   |   |   |   |   |   |   |--- class: 1\n",
      "|   |   |   |   |   |   |   |   |--- balance >  153.50\n",
      "|   |   |   |   |   |   |   |   |   |--- class: 0\n",
      "|   |   |   |   |   |   |--- balance >  826.50\n",
      "|   |   |   |   |   |   |   |--- recent_pdays <= 0.01\n",
      "|   |   |   |   |   |   |   |   |--- class: 0\n",
      "|   |   |   |   |   |   |   |--- recent_pdays >  0.01\n",
      "|   |   |   |   |   |   |   |   |--- campaign <= 1.50\n",
      "|   |   |   |   |   |   |   |   |   |--- age <= 39.50\n",
      "|   |   |   |   |   |   |   |   |   |   |--- recent_pdays <= 0.01\n",
      "|   |   |   |   |   |   |   |   |   |   |   |--- truncated branch of depth 2\n",
      "|   |   |   |   |   |   |   |   |   |   |--- recent_pdays >  0.01\n",
      "|   |   |   |   |   |   |   |   |   |   |   |--- class: 1\n",
      "|   |   |   |   |   |   |   |   |   |--- age >  39.50\n",
      "|   |   |   |   |   |   |   |   |   |   |--- recent_pdays <= 0.01\n",
      "|   |   |   |   |   |   |   |   |   |   |   |--- class: 0\n",
      "|   |   |   |   |   |   |   |   |   |   |--- recent_pdays >  0.01\n",
      "|   |   |   |   |   |   |   |   |   |   |   |--- class: 1\n",
      "|   |   |   |   |   |   |   |   |--- campaign >  1.50\n",
      "|   |   |   |   |   |   |   |   |   |--- campaign <= 2.50\n",
      "|   |   |   |   |   |   |   |   |   |   |--- class: 1\n",
      "|   |   |   |   |   |   |   |   |   |--- campaign >  2.50\n",
      "|   |   |   |   |   |   |   |   |   |   |--- previous <= 2.50\n",
      "|   |   |   |   |   |   |   |   |   |   |   |--- class: 1\n",
      "|   |   |   |   |   |   |   |   |   |   |--- previous >  2.50\n",
      "|   |   |   |   |   |   |   |   |   |   |   |--- class: 0\n",
      "|   |   |   |   |   |--- balance >  2979.50\n",
      "|   |   |   |   |   |   |--- class: 1\n",
      "|   |   |   |   |--- duration >  145.50\n",
      "|   |   |   |   |   |--- class: 0\n",
      "|   |   |   |--- duration >  146.50\n",
      "|   |   |   |   |--- previous <= 21.00\n",
      "|   |   |   |   |   |--- age <= 47.50\n",
      "|   |   |   |   |   |   |--- age <= 22.00\n",
      "|   |   |   |   |   |   |   |--- balance <= 1547.00\n",
      "|   |   |   |   |   |   |   |   |--- class: 1\n",
      "|   |   |   |   |   |   |   |--- balance >  1547.00\n",
      "|   |   |   |   |   |   |   |   |--- class: 0\n",
      "|   |   |   |   |   |   |--- age >  22.00\n",
      "|   |   |   |   |   |   |   |--- duration <= 183.50\n",
      "|   |   |   |   |   |   |   |   |--- class: 1\n",
      "|   |   |   |   |   |   |   |--- duration >  183.50\n",
      "|   |   |   |   |   |   |   |   |--- duration <= 186.00\n",
      "|   |   |   |   |   |   |   |   |   |--- recent_pdays <= 0.01\n",
      "|   |   |   |   |   |   |   |   |   |   |--- class: 0\n",
      "|   |   |   |   |   |   |   |   |   |--- recent_pdays >  0.01\n",
      "|   |   |   |   |   |   |   |   |   |   |--- class: 1\n",
      "|   |   |   |   |   |   |   |   |--- duration >  186.00\n",
      "|   |   |   |   |   |   |   |   |   |--- class: 1\n",
      "|   |   |   |   |   |--- age >  47.50\n",
      "|   |   |   |   |   |   |--- job_self-depend <= 0.50\n",
      "|   |   |   |   |   |   |   |--- duration <= 162.00\n",
      "|   |   |   |   |   |   |   |   |--- duration <= 158.50\n",
      "|   |   |   |   |   |   |   |   |   |--- job_Pink-collar <= 0.50\n",
      "|   |   |   |   |   |   |   |   |   |   |--- balance <= 2688.50\n",
      "|   |   |   |   |   |   |   |   |   |   |   |--- class: 1\n",
      "|   |   |   |   |   |   |   |   |   |   |--- balance >  2688.50\n",
      "|   |   |   |   |   |   |   |   |   |   |   |--- class: 0\n",
      "|   |   |   |   |   |   |   |   |   |--- job_Pink-collar >  0.50\n",
      "|   |   |   |   |   |   |   |   |   |   |--- class: 0\n",
      "|   |   |   |   |   |   |   |   |--- duration >  158.50\n",
      "|   |   |   |   |   |   |   |   |   |--- class: 0\n",
      "|   |   |   |   |   |   |   |--- duration >  162.00\n",
      "|   |   |   |   |   |   |   |   |--- age <= 48.50\n",
      "|   |   |   |   |   |   |   |   |   |--- duration <= 168.50\n",
      "|   |   |   |   |   |   |   |   |   |   |--- class: 0\n",
      "|   |   |   |   |   |   |   |   |   |--- duration >  168.50\n",
      "|   |   |   |   |   |   |   |   |   |   |--- class: 1\n",
      "|   |   |   |   |   |   |   |   |--- age >  48.50\n",
      "|   |   |   |   |   |   |   |   |   |--- class: 1\n",
      "|   |   |   |   |   |   |--- job_self-depend >  0.50\n",
      "|   |   |   |   |   |   |   |--- class: 0\n",
      "|   |   |   |   |--- previous >  21.00\n",
      "|   |   |   |   |   |--- class: 0\n",
      "|--- duration >  206.50\n",
      "|   |--- duration <= 472.50\n",
      "|   |   |--- housing_yes <= 0.50\n",
      "|   |   |   |--- recent_pdays <= 0.00\n",
      "|   |   |   |   |--- age <= 60.50\n",
      "|   |   |   |   |   |--- balance <= 67.50\n",
      "|   |   |   |   |   |   |--- duration <= 353.00\n",
      "|   |   |   |   |   |   |   |--- age <= 31.50\n",
      "|   |   |   |   |   |   |   |   |--- job_Pink-collar <= 0.50\n",
      "|   |   |   |   |   |   |   |   |   |--- education_secondary <= 0.50\n",
      "|   |   |   |   |   |   |   |   |   |   |--- duration <= 269.50\n",
      "|   |   |   |   |   |   |   |   |   |   |   |--- truncated branch of depth 2\n",
      "|   |   |   |   |   |   |   |   |   |   |--- duration >  269.50\n",
      "|   |   |   |   |   |   |   |   |   |   |   |--- truncated branch of depth 2\n",
      "|   |   |   |   |   |   |   |   |   |--- education_secondary >  0.50\n",
      "|   |   |   |   |   |   |   |   |   |   |--- class: 1\n",
      "|   |   |   |   |   |   |   |   |--- job_Pink-collar >  0.50\n",
      "|   |   |   |   |   |   |   |   |   |--- class: 0\n",
      "|   |   |   |   |   |   |   |--- age >  31.50\n",
      "|   |   |   |   |   |   |   |   |--- age <= 44.50\n",
      "|   |   |   |   |   |   |   |   |   |--- age <= 34.50\n",
      "|   |   |   |   |   |   |   |   |   |   |--- age <= 33.50\n",
      "|   |   |   |   |   |   |   |   |   |   |   |--- truncated branch of depth 2\n",
      "|   |   |   |   |   |   |   |   |   |   |--- age >  33.50\n",
      "|   |   |   |   |   |   |   |   |   |   |   |--- truncated branch of depth 2\n",
      "|   |   |   |   |   |   |   |   |   |--- age >  34.50\n",
      "|   |   |   |   |   |   |   |   |   |   |--- class: 0\n",
      "|   |   |   |   |   |   |   |   |--- age >  44.50\n",
      "|   |   |   |   |   |   |   |   |   |--- age <= 46.50\n",
      "|   |   |   |   |   |   |   |   |   |   |--- balance <= 55.50\n",
      "|   |   |   |   |   |   |   |   |   |   |   |--- class: 1\n",
      "|   |   |   |   |   |   |   |   |   |   |--- balance >  55.50\n",
      "|   |   |   |   |   |   |   |   |   |   |   |--- class: 0\n",
      "|   |   |   |   |   |   |   |   |   |--- age >  46.50\n",
      "|   |   |   |   |   |   |   |   |   |   |--- education_tertiary <= 0.50\n",
      "|   |   |   |   |   |   |   |   |   |   |   |--- truncated branch of depth 2\n",
      "|   |   |   |   |   |   |   |   |   |   |--- education_tertiary >  0.50\n",
      "|   |   |   |   |   |   |   |   |   |   |   |--- truncated branch of depth 2\n",
      "|   |   |   |   |   |   |--- duration >  353.00\n",
      "|   |   |   |   |   |   |   |--- duration <= 432.00\n",
      "|   |   |   |   |   |   |   |   |--- duration <= 416.00\n",
      "|   |   |   |   |   |   |   |   |   |--- campaign <= 4.50\n",
      "|   |   |   |   |   |   |   |   |   |   |--- age <= 56.50\n",
      "|   |   |   |   |   |   |   |   |   |   |   |--- truncated branch of depth 2\n",
      "|   |   |   |   |   |   |   |   |   |   |--- age >  56.50\n",
      "|   |   |   |   |   |   |   |   |   |   |   |--- truncated branch of depth 2\n",
      "|   |   |   |   |   |   |   |   |   |--- campaign >  4.50\n",
      "|   |   |   |   |   |   |   |   |   |   |--- class: 1\n",
      "|   |   |   |   |   |   |   |   |--- duration >  416.00\n",
      "|   |   |   |   |   |   |   |   |   |--- balance <= 55.50\n",
      "|   |   |   |   |   |   |   |   |   |   |--- class: 1\n",
      "|   |   |   |   |   |   |   |   |   |--- balance >  55.50\n",
      "|   |   |   |   |   |   |   |   |   |   |--- class: 0\n",
      "|   |   |   |   |   |   |   |--- duration >  432.00\n",
      "|   |   |   |   |   |   |   |   |--- balance <= 24.50\n",
      "|   |   |   |   |   |   |   |   |   |--- class: 0\n",
      "|   |   |   |   |   |   |   |   |--- balance >  24.50\n",
      "|   |   |   |   |   |   |   |   |   |--- duration <= 448.50\n",
      "|   |   |   |   |   |   |   |   |   |   |--- class: 0\n",
      "|   |   |   |   |   |   |   |   |   |--- duration >  448.50\n",
      "|   |   |   |   |   |   |   |   |   |   |--- class: 1\n",
      "|   |   |   |   |   |--- balance >  67.50\n",
      "|   |   |   |   |   |   |--- age <= 29.50\n",
      "|   |   |   |   |   |   |   |--- age <= 24.50\n",
      "|   |   |   |   |   |   |   |   |--- balance <= 93.00\n",
      "|   |   |   |   |   |   |   |   |   |--- class: 0\n",
      "|   |   |   |   |   |   |   |   |--- balance >  93.00\n",
      "|   |   |   |   |   |   |   |   |   |--- duration <= 460.00\n",
      "|   |   |   |   |   |   |   |   |   |   |--- class: 1\n",
      "|   |   |   |   |   |   |   |   |   |--- duration >  460.00\n",
      "|   |   |   |   |   |   |   |   |   |   |--- class: 0\n",
      "|   |   |   |   |   |   |   |--- age >  24.50\n",
      "|   |   |   |   |   |   |   |   |--- loan_yes <= 0.50\n",
      "|   |   |   |   |   |   |   |   |   |--- balance <= 2183.00\n",
      "|   |   |   |   |   |   |   |   |   |   |--- duration <= 231.00\n",
      "|   |   |   |   |   |   |   |   |   |   |   |--- truncated branch of depth 2\n",
      "|   |   |   |   |   |   |   |   |   |   |--- duration >  231.00\n",
      "|   |   |   |   |   |   |   |   |   |   |   |--- truncated branch of depth 2\n",
      "|   |   |   |   |   |   |   |   |   |--- balance >  2183.00\n",
      "|   |   |   |   |   |   |   |   |   |   |--- education_tertiary <= 0.50\n",
      "|   |   |   |   |   |   |   |   |   |   |   |--- truncated branch of depth 2\n",
      "|   |   |   |   |   |   |   |   |   |   |--- education_tertiary >  0.50\n",
      "|   |   |   |   |   |   |   |   |   |   |   |--- class: 1\n",
      "|   |   |   |   |   |   |   |   |--- loan_yes >  0.50\n",
      "|   |   |   |   |   |   |   |   |   |--- job_blue-collar <= 0.50\n",
      "|   |   |   |   |   |   |   |   |   |   |--- job_White-collar <= 0.50\n",
      "|   |   |   |   |   |   |   |   |   |   |   |--- truncated branch of depth 2\n",
      "|   |   |   |   |   |   |   |   |   |   |--- job_White-collar >  0.50\n",
      "|   |   |   |   |   |   |   |   |   |   |   |--- class: 0\n",
      "|   |   |   |   |   |   |   |   |   |--- job_blue-collar >  0.50\n",
      "|   |   |   |   |   |   |   |   |   |   |--- class: 1\n",
      "|   |   |   |   |   |   |--- age >  29.50\n",
      "|   |   |   |   |   |   |   |--- duration <= 363.50\n",
      "|   |   |   |   |   |   |   |   |--- campaign <= 1.50\n",
      "|   |   |   |   |   |   |   |   |   |--- loan_yes <= 0.50\n",
      "|   |   |   |   |   |   |   |   |   |   |--- balance <= 134.50\n",
      "|   |   |   |   |   |   |   |   |   |   |   |--- class: 1\n",
      "|   |   |   |   |   |   |   |   |   |   |--- balance >  134.50\n",
      "|   |   |   |   |   |   |   |   |   |   |   |--- truncated branch of depth 2\n",
      "|   |   |   |   |   |   |   |   |   |--- loan_yes >  0.50\n",
      "|   |   |   |   |   |   |   |   |   |   |--- duration <= 247.50\n",
      "|   |   |   |   |   |   |   |   |   |   |   |--- truncated branch of depth 2\n",
      "|   |   |   |   |   |   |   |   |   |   |--- duration >  247.50\n",
      "|   |   |   |   |   |   |   |   |   |   |   |--- class: 0\n",
      "|   |   |   |   |   |   |   |   |--- campaign >  1.50\n",
      "|   |   |   |   |   |   |   |   |   |--- education_tertiary <= 0.50\n",
      "|   |   |   |   |   |   |   |   |   |   |--- age <= 33.50\n",
      "|   |   |   |   |   |   |   |   |   |   |   |--- truncated branch of depth 2\n",
      "|   |   |   |   |   |   |   |   |   |   |--- age >  33.50\n",
      "|   |   |   |   |   |   |   |   |   |   |   |--- truncated branch of depth 2\n",
      "|   |   |   |   |   |   |   |   |   |--- education_tertiary >  0.50\n",
      "|   |   |   |   |   |   |   |   |   |   |--- loan_yes <= 0.50\n",
      "|   |   |   |   |   |   |   |   |   |   |   |--- truncated branch of depth 2\n",
      "|   |   |   |   |   |   |   |   |   |   |--- loan_yes >  0.50\n",
      "|   |   |   |   |   |   |   |   |   |   |   |--- truncated branch of depth 2\n",
      "|   |   |   |   |   |   |   |--- duration >  363.50\n",
      "|   |   |   |   |   |   |   |   |--- balance <= 855.00\n",
      "|   |   |   |   |   |   |   |   |   |--- age <= 50.50\n",
      "|   |   |   |   |   |   |   |   |   |   |--- duration <= 373.00\n",
      "|   |   |   |   |   |   |   |   |   |   |   |--- truncated branch of depth 2\n",
      "|   |   |   |   |   |   |   |   |   |   |--- duration >  373.00\n",
      "|   |   |   |   |   |   |   |   |   |   |   |--- truncated branch of depth 2\n",
      "|   |   |   |   |   |   |   |   |   |--- age >  50.50\n",
      "|   |   |   |   |   |   |   |   |   |   |--- age <= 56.00\n",
      "|   |   |   |   |   |   |   |   |   |   |   |--- truncated branch of depth 2\n",
      "|   |   |   |   |   |   |   |   |   |   |--- age >  56.00\n",
      "|   |   |   |   |   |   |   |   |   |   |   |--- truncated branch of depth 2\n",
      "|   |   |   |   |   |   |   |   |--- balance >  855.00\n",
      "|   |   |   |   |   |   |   |   |   |--- job_blue-collar <= 0.50\n",
      "|   |   |   |   |   |   |   |   |   |   |--- campaign <= 6.50\n",
      "|   |   |   |   |   |   |   |   |   |   |   |--- truncated branch of depth 2\n",
      "|   |   |   |   |   |   |   |   |   |   |--- campaign >  6.50\n",
      "|   |   |   |   |   |   |   |   |   |   |   |--- truncated branch of depth 2\n",
      "|   |   |   |   |   |   |   |   |   |--- job_blue-collar >  0.50\n",
      "|   |   |   |   |   |   |   |   |   |   |--- duration <= 421.00\n",
      "|   |   |   |   |   |   |   |   |   |   |   |--- truncated branch of depth 2\n",
      "|   |   |   |   |   |   |   |   |   |   |--- duration >  421.00\n",
      "|   |   |   |   |   |   |   |   |   |   |   |--- class: 1\n",
      "|   |   |   |   |--- age >  60.50\n",
      "|   |   |   |   |   |--- loan_yes <= 0.50\n",
      "|   |   |   |   |   |   |--- balance <= 8761.00\n",
      "|   |   |   |   |   |   |   |--- balance <= 1.00\n",
      "|   |   |   |   |   |   |   |   |--- education_tertiary <= 0.50\n",
      "|   |   |   |   |   |   |   |   |   |--- education_secondary <= 0.50\n",
      "|   |   |   |   |   |   |   |   |   |   |--- class: 0\n",
      "|   |   |   |   |   |   |   |   |   |--- education_secondary >  0.50\n",
      "|   |   |   |   |   |   |   |   |   |   |--- class: 1\n",
      "|   |   |   |   |   |   |   |   |--- education_tertiary >  0.50\n",
      "|   |   |   |   |   |   |   |   |   |--- class: 1\n",
      "|   |   |   |   |   |   |   |--- balance >  1.00\n",
      "|   |   |   |   |   |   |   |   |--- age <= 86.50\n",
      "|   |   |   |   |   |   |   |   |   |--- duration <= 436.50\n",
      "|   |   |   |   |   |   |   |   |   |   |--- job_Pink-collar <= 0.50\n",
      "|   |   |   |   |   |   |   |   |   |   |   |--- truncated branch of depth 2\n",
      "|   |   |   |   |   |   |   |   |   |   |--- job_Pink-collar >  0.50\n",
      "|   |   |   |   |   |   |   |   |   |   |   |--- truncated branch of depth 2\n",
      "|   |   |   |   |   |   |   |   |   |--- duration >  436.50\n",
      "|   |   |   |   |   |   |   |   |   |   |--- balance <= 2601.00\n",
      "|   |   |   |   |   |   |   |   |   |   |   |--- class: 1\n",
      "|   |   |   |   |   |   |   |   |   |   |--- balance >  2601.00\n",
      "|   |   |   |   |   |   |   |   |   |   |   |--- class: 0\n",
      "|   |   |   |   |   |   |   |   |--- age >  86.50\n",
      "|   |   |   |   |   |   |   |   |   |--- duration <= 315.50\n",
      "|   |   |   |   |   |   |   |   |   |   |--- class: 1\n",
      "|   |   |   |   |   |   |   |   |   |--- duration >  315.50\n",
      "|   |   |   |   |   |   |   |   |   |   |--- class: 0\n",
      "|   |   |   |   |   |   |--- balance >  8761.00\n",
      "|   |   |   |   |   |   |   |--- education_unknown <= 0.50\n",
      "|   |   |   |   |   |   |   |   |--- class: 1\n",
      "|   |   |   |   |   |   |   |--- education_unknown >  0.50\n",
      "|   |   |   |   |   |   |   |   |--- class: 0\n",
      "|   |   |   |   |   |--- loan_yes >  0.50\n",
      "|   |   |   |   |   |   |--- class: 0\n",
      "|   |   |   |--- recent_pdays >  0.00\n",
      "|   |   |   |   |--- poutcome_success <= 0.50\n",
      "|   |   |   |   |   |--- job_blue-collar <= 0.50\n",
      "|   |   |   |   |   |   |--- balance <= -7.50\n",
      "|   |   |   |   |   |   |   |--- class: 0\n",
      "|   |   |   |   |   |   |--- balance >  -7.50\n",
      "|   |   |   |   |   |   |   |--- balance <= 200.50\n",
      "|   |   |   |   |   |   |   |   |--- loan_yes <= 0.50\n",
      "|   |   |   |   |   |   |   |   |   |--- duration <= 254.00\n",
      "|   |   |   |   |   |   |   |   |   |   |--- age <= 34.50\n",
      "|   |   |   |   |   |   |   |   |   |   |   |--- class: 1\n",
      "|   |   |   |   |   |   |   |   |   |   |--- age >  34.50\n",
      "|   |   |   |   |   |   |   |   |   |   |   |--- truncated branch of depth 2\n",
      "|   |   |   |   |   |   |   |   |   |--- duration >  254.00\n",
      "|   |   |   |   |   |   |   |   |   |   |--- age <= 22.00\n",
      "|   |   |   |   |   |   |   |   |   |   |   |--- class: 0\n",
      "|   |   |   |   |   |   |   |   |   |   |--- age >  22.00\n",
      "|   |   |   |   |   |   |   |   |   |   |   |--- truncated branch of depth 2\n",
      "|   |   |   |   |   |   |   |   |--- loan_yes >  0.50\n",
      "|   |   |   |   |   |   |   |   |   |--- age <= 32.50\n",
      "|   |   |   |   |   |   |   |   |   |   |--- class: 1\n",
      "|   |   |   |   |   |   |   |   |   |--- age >  32.50\n",
      "|   |   |   |   |   |   |   |   |   |   |--- class: 0\n",
      "|   |   |   |   |   |   |   |--- balance >  200.50\n",
      "|   |   |   |   |   |   |   |   |--- recent_pdays <= 0.01\n",
      "|   |   |   |   |   |   |   |   |   |--- recent_pdays <= 0.01\n",
      "|   |   |   |   |   |   |   |   |   |   |--- balance <= 350.00\n",
      "|   |   |   |   |   |   |   |   |   |   |   |--- truncated branch of depth 2\n",
      "|   |   |   |   |   |   |   |   |   |   |--- balance >  350.00\n",
      "|   |   |   |   |   |   |   |   |   |   |   |--- truncated branch of depth 2\n",
      "|   |   |   |   |   |   |   |   |   |--- recent_pdays >  0.01\n",
      "|   |   |   |   |   |   |   |   |   |   |--- class: 1\n",
      "|   |   |   |   |   |   |   |   |--- recent_pdays >  0.01\n",
      "|   |   |   |   |   |   |   |   |   |--- recent_pdays <= 0.01\n",
      "|   |   |   |   |   |   |   |   |   |   |--- recent_pdays <= 0.01\n",
      "|   |   |   |   |   |   |   |   |   |   |   |--- truncated branch of depth 2\n",
      "|   |   |   |   |   |   |   |   |   |   |--- recent_pdays >  0.01\n",
      "|   |   |   |   |   |   |   |   |   |   |   |--- class: 0\n",
      "|   |   |   |   |   |   |   |   |   |--- recent_pdays >  0.01\n",
      "|   |   |   |   |   |   |   |   |   |   |--- duration <= 451.50\n",
      "|   |   |   |   |   |   |   |   |   |   |   |--- truncated branch of depth 2\n",
      "|   |   |   |   |   |   |   |   |   |   |--- duration >  451.50\n",
      "|   |   |   |   |   |   |   |   |   |   |   |--- truncated branch of depth 2\n",
      "|   |   |   |   |   |--- job_blue-collar >  0.50\n",
      "|   |   |   |   |   |   |--- recent_pdays <= 0.01\n",
      "|   |   |   |   |   |   |   |--- age <= 49.00\n",
      "|   |   |   |   |   |   |   |   |--- duration <= 413.50\n",
      "|   |   |   |   |   |   |   |   |   |--- duration <= 257.50\n",
      "|   |   |   |   |   |   |   |   |   |   |--- balance <= 1748.00\n",
      "|   |   |   |   |   |   |   |   |   |   |   |--- truncated branch of depth 2\n",
      "|   |   |   |   |   |   |   |   |   |   |--- balance >  1748.00\n",
      "|   |   |   |   |   |   |   |   |   |   |   |--- class: 1\n",
      "|   |   |   |   |   |   |   |   |   |--- duration >  257.50\n",
      "|   |   |   |   |   |   |   |   |   |   |--- class: 0\n",
      "|   |   |   |   |   |   |   |   |--- duration >  413.50\n",
      "|   |   |   |   |   |   |   |   |   |--- class: 1\n",
      "|   |   |   |   |   |   |   |--- age >  49.00\n",
      "|   |   |   |   |   |   |   |   |--- class: 1\n",
      "|   |   |   |   |   |   |--- recent_pdays >  0.01\n",
      "|   |   |   |   |   |   |   |--- class: 1\n",
      "|   |   |   |   |--- poutcome_success >  0.50\n",
      "|   |   |   |   |   |--- balance <= -207.00\n",
      "|   |   |   |   |   |   |--- class: 0\n",
      "|   |   |   |   |   |--- balance >  -207.00\n",
      "|   |   |   |   |   |   |--- duration <= 207.50\n",
      "|   |   |   |   |   |   |   |--- education_unknown <= 0.50\n",
      "|   |   |   |   |   |   |   |   |--- class: 1\n",
      "|   |   |   |   |   |   |   |--- education_unknown >  0.50\n",
      "|   |   |   |   |   |   |   |   |--- class: 0\n",
      "|   |   |   |   |   |   |--- duration >  207.50\n",
      "|   |   |   |   |   |   |   |--- job_technician <= 0.50\n",
      "|   |   |   |   |   |   |   |   |--- balance <= 395.50\n",
      "|   |   |   |   |   |   |   |   |   |--- previous <= 7.50\n",
      "|   |   |   |   |   |   |   |   |   |   |--- balance <= 377.00\n",
      "|   |   |   |   |   |   |   |   |   |   |   |--- truncated branch of depth 2\n",
      "|   |   |   |   |   |   |   |   |   |   |--- balance >  377.00\n",
      "|   |   |   |   |   |   |   |   |   |   |   |--- truncated branch of depth 2\n",
      "|   |   |   |   |   |   |   |   |   |--- previous >  7.50\n",
      "|   |   |   |   |   |   |   |   |   |   |--- job_White-collar <= 0.50\n",
      "|   |   |   |   |   |   |   |   |   |   |   |--- class: 0\n",
      "|   |   |   |   |   |   |   |   |   |   |--- job_White-collar >  0.50\n",
      "|   |   |   |   |   |   |   |   |   |   |   |--- class: 1\n",
      "|   |   |   |   |   |   |   |   |--- balance >  395.50\n",
      "|   |   |   |   |   |   |   |   |   |--- age <= 76.50\n",
      "|   |   |   |   |   |   |   |   |   |   |--- class: 1\n",
      "|   |   |   |   |   |   |   |   |   |--- age >  76.50\n",
      "|   |   |   |   |   |   |   |   |   |   |--- balance <= 2773.50\n",
      "|   |   |   |   |   |   |   |   |   |   |   |--- truncated branch of depth 2\n",
      "|   |   |   |   |   |   |   |   |   |   |--- balance >  2773.50\n",
      "|   |   |   |   |   |   |   |   |   |   |   |--- class: 1\n",
      "|   |   |   |   |   |   |   |--- job_technician >  0.50\n",
      "|   |   |   |   |   |   |   |   |--- recent_pdays <= 0.01\n",
      "|   |   |   |   |   |   |   |   |   |--- loan_yes <= 0.50\n",
      "|   |   |   |   |   |   |   |   |   |   |--- balance <= 11023.50\n",
      "|   |   |   |   |   |   |   |   |   |   |   |--- truncated branch of depth 2\n",
      "|   |   |   |   |   |   |   |   |   |   |--- balance >  11023.50\n",
      "|   |   |   |   |   |   |   |   |   |   |   |--- truncated branch of depth 2\n",
      "|   |   |   |   |   |   |   |   |   |--- loan_yes >  0.50\n",
      "|   |   |   |   |   |   |   |   |   |   |--- class: 0\n",
      "|   |   |   |   |   |   |   |   |--- recent_pdays >  0.01\n",
      "|   |   |   |   |   |   |   |   |   |--- class: 0\n",
      "|   |   |--- housing_yes >  0.50\n",
      "|   |   |   |--- poutcome_success <= 0.50\n",
      "|   |   |   |   |--- previous <= 0.50\n",
      "|   |   |   |   |   |--- duration <= 369.50\n",
      "|   |   |   |   |   |   |--- balance <= 1333.50\n",
      "|   |   |   |   |   |   |   |--- age <= 62.00\n",
      "|   |   |   |   |   |   |   |   |--- balance <= -3.00\n",
      "|   |   |   |   |   |   |   |   |   |--- duration <= 362.50\n",
      "|   |   |   |   |   |   |   |   |   |   |--- class: 0\n",
      "|   |   |   |   |   |   |   |   |   |--- duration >  362.50\n",
      "|   |   |   |   |   |   |   |   |   |   |--- campaign <= 1.50\n",
      "|   |   |   |   |   |   |   |   |   |   |   |--- class: 0\n",
      "|   |   |   |   |   |   |   |   |   |   |--- campaign >  1.50\n",
      "|   |   |   |   |   |   |   |   |   |   |   |--- class: 1\n",
      "|   |   |   |   |   |   |   |   |--- balance >  -3.00\n",
      "|   |   |   |   |   |   |   |   |   |--- job_White-collar <= 0.50\n",
      "|   |   |   |   |   |   |   |   |   |   |--- age <= 22.50\n",
      "|   |   |   |   |   |   |   |   |   |   |   |--- class: 1\n",
      "|   |   |   |   |   |   |   |   |   |   |--- age >  22.50\n",
      "|   |   |   |   |   |   |   |   |   |   |   |--- truncated branch of depth 2\n",
      "|   |   |   |   |   |   |   |   |   |--- job_White-collar >  0.50\n",
      "|   |   |   |   |   |   |   |   |   |   |--- age <= 58.50\n",
      "|   |   |   |   |   |   |   |   |   |   |   |--- truncated branch of depth 2\n",
      "|   |   |   |   |   |   |   |   |   |   |--- age >  58.50\n",
      "|   |   |   |   |   |   |   |   |   |   |   |--- truncated branch of depth 2\n",
      "|   |   |   |   |   |   |   |--- age >  62.00\n",
      "|   |   |   |   |   |   |   |   |--- class: 1\n",
      "|   |   |   |   |   |   |--- balance >  1333.50\n",
      "|   |   |   |   |   |   |   |--- job_White-collar <= 0.50\n",
      "|   |   |   |   |   |   |   |   |--- age <= 28.50\n",
      "|   |   |   |   |   |   |   |   |   |--- duration <= 270.50\n",
      "|   |   |   |   |   |   |   |   |   |   |--- balance <= 2008.50\n",
      "|   |   |   |   |   |   |   |   |   |   |   |--- class: 1\n",
      "|   |   |   |   |   |   |   |   |   |   |--- balance >  2008.50\n",
      "|   |   |   |   |   |   |   |   |   |   |   |--- class: 0\n",
      "|   |   |   |   |   |   |   |   |   |--- duration >  270.50\n",
      "|   |   |   |   |   |   |   |   |   |   |--- class: 1\n",
      "|   |   |   |   |   |   |   |   |--- age >  28.50\n",
      "|   |   |   |   |   |   |   |   |   |--- age <= 60.50\n",
      "|   |   |   |   |   |   |   |   |   |   |--- job_technician <= 0.50\n",
      "|   |   |   |   |   |   |   |   |   |   |   |--- truncated branch of depth 2\n",
      "|   |   |   |   |   |   |   |   |   |   |--- job_technician >  0.50\n",
      "|   |   |   |   |   |   |   |   |   |   |   |--- truncated branch of depth 2\n",
      "|   |   |   |   |   |   |   |   |   |--- age >  60.50\n",
      "|   |   |   |   |   |   |   |   |   |   |--- class: 1\n",
      "|   |   |   |   |   |   |   |--- job_White-collar >  0.50\n",
      "|   |   |   |   |   |   |   |   |--- campaign <= 4.50\n",
      "|   |   |   |   |   |   |   |   |   |--- age <= 28.50\n",
      "|   |   |   |   |   |   |   |   |   |   |--- class: 1\n",
      "|   |   |   |   |   |   |   |   |   |--- age >  28.50\n",
      "|   |   |   |   |   |   |   |   |   |   |--- age <= 45.50\n",
      "|   |   |   |   |   |   |   |   |   |   |   |--- truncated branch of depth 2\n",
      "|   |   |   |   |   |   |   |   |   |   |--- age >  45.50\n",
      "|   |   |   |   |   |   |   |   |   |   |   |--- truncated branch of depth 2\n",
      "|   |   |   |   |   |   |   |   |--- campaign >  4.50\n",
      "|   |   |   |   |   |   |   |   |   |--- class: 0\n",
      "|   |   |   |   |   |--- duration >  369.50\n",
      "|   |   |   |   |   |   |--- age <= 30.50\n",
      "|   |   |   |   |   |   |   |--- default_yes <= 0.50\n",
      "|   |   |   |   |   |   |   |   |--- duration <= 460.50\n",
      "|   |   |   |   |   |   |   |   |   |--- duration <= 374.00\n",
      "|   |   |   |   |   |   |   |   |   |   |--- class: 1\n",
      "|   |   |   |   |   |   |   |   |   |--- duration >  374.00\n",
      "|   |   |   |   |   |   |   |   |   |   |--- duration <= 405.50\n",
      "|   |   |   |   |   |   |   |   |   |   |   |--- truncated branch of depth 2\n",
      "|   |   |   |   |   |   |   |   |   |   |--- duration >  405.50\n",
      "|   |   |   |   |   |   |   |   |   |   |   |--- truncated branch of depth 2\n",
      "|   |   |   |   |   |   |   |   |--- duration >  460.50\n",
      "|   |   |   |   |   |   |   |   |   |--- class: 0\n",
      "|   |   |   |   |   |   |   |--- default_yes >  0.50\n",
      "|   |   |   |   |   |   |   |   |--- class: 1\n",
      "|   |   |   |   |   |   |--- age >  30.50\n",
      "|   |   |   |   |   |   |   |--- duration <= 428.50\n",
      "|   |   |   |   |   |   |   |   |--- age <= 62.50\n",
      "|   |   |   |   |   |   |   |   |   |--- job_Pink-collar <= 0.50\n",
      "|   |   |   |   |   |   |   |   |   |   |--- balance <= 634.50\n",
      "|   |   |   |   |   |   |   |   |   |   |   |--- truncated branch of depth 2\n",
      "|   |   |   |   |   |   |   |   |   |   |--- balance >  634.50\n",
      "|   |   |   |   |   |   |   |   |   |   |   |--- truncated branch of depth 2\n",
      "|   |   |   |   |   |   |   |   |   |--- job_Pink-collar >  0.50\n",
      "|   |   |   |   |   |   |   |   |   |   |--- education_secondary <= 0.50\n",
      "|   |   |   |   |   |   |   |   |   |   |   |--- class: 0\n",
      "|   |   |   |   |   |   |   |   |   |   |--- education_secondary >  0.50\n",
      "|   |   |   |   |   |   |   |   |   |   |   |--- truncated branch of depth 2\n",
      "|   |   |   |   |   |   |   |   |--- age >  62.50\n",
      "|   |   |   |   |   |   |   |   |   |--- class: 1\n",
      "|   |   |   |   |   |   |   |--- duration >  428.50\n",
      "|   |   |   |   |   |   |   |   |--- age <= 44.50\n",
      "|   |   |   |   |   |   |   |   |   |--- balance <= 3090.50\n",
      "|   |   |   |   |   |   |   |   |   |   |--- duration <= 446.50\n",
      "|   |   |   |   |   |   |   |   |   |   |   |--- truncated branch of depth 2\n",
      "|   |   |   |   |   |   |   |   |   |   |--- duration >  446.50\n",
      "|   |   |   |   |   |   |   |   |   |   |   |--- truncated branch of depth 2\n",
      "|   |   |   |   |   |   |   |   |   |--- balance >  3090.50\n",
      "|   |   |   |   |   |   |   |   |   |   |--- class: 0\n",
      "|   |   |   |   |   |   |   |   |--- age >  44.50\n",
      "|   |   |   |   |   |   |   |   |   |--- duration <= 442.50\n",
      "|   |   |   |   |   |   |   |   |   |   |--- age <= 48.50\n",
      "|   |   |   |   |   |   |   |   |   |   |   |--- class: 1\n",
      "|   |   |   |   |   |   |   |   |   |   |--- age >  48.50\n",
      "|   |   |   |   |   |   |   |   |   |   |   |--- class: 0\n",
      "|   |   |   |   |   |   |   |   |   |--- duration >  442.50\n",
      "|   |   |   |   |   |   |   |   |   |   |--- balance <= 50.50\n",
      "|   |   |   |   |   |   |   |   |   |   |   |--- truncated branch of depth 2\n",
      "|   |   |   |   |   |   |   |   |   |   |--- balance >  50.50\n",
      "|   |   |   |   |   |   |   |   |   |   |   |--- class: 1\n",
      "|   |   |   |   |--- previous >  0.50\n",
      "|   |   |   |   |   |--- recent_pdays <= 0.00\n",
      "|   |   |   |   |   |   |--- loan_yes <= 0.50\n",
      "|   |   |   |   |   |   |   |--- class: 1\n",
      "|   |   |   |   |   |   |--- loan_yes >  0.50\n",
      "|   |   |   |   |   |   |   |--- class: 0\n",
      "|   |   |   |   |   |--- recent_pdays >  0.00\n",
      "|   |   |   |   |   |   |--- recent_pdays <= 0.01\n",
      "|   |   |   |   |   |   |   |--- education_tertiary <= 0.50\n",
      "|   |   |   |   |   |   |   |   |--- previous <= 7.50\n",
      "|   |   |   |   |   |   |   |   |   |--- duration <= 436.00\n",
      "|   |   |   |   |   |   |   |   |   |   |--- age <= 47.50\n",
      "|   |   |   |   |   |   |   |   |   |   |   |--- truncated branch of depth 2\n",
      "|   |   |   |   |   |   |   |   |   |   |--- age >  47.50\n",
      "|   |   |   |   |   |   |   |   |   |   |   |--- truncated branch of depth 2\n",
      "|   |   |   |   |   |   |   |   |   |--- duration >  436.00\n",
      "|   |   |   |   |   |   |   |   |   |   |--- previous <= 2.50\n",
      "|   |   |   |   |   |   |   |   |   |   |   |--- truncated branch of depth 2\n",
      "|   |   |   |   |   |   |   |   |   |   |--- previous >  2.50\n",
      "|   |   |   |   |   |   |   |   |   |   |   |--- class: 1\n",
      "|   |   |   |   |   |   |   |   |--- previous >  7.50\n",
      "|   |   |   |   |   |   |   |   |   |--- recent_pdays <= 0.01\n",
      "|   |   |   |   |   |   |   |   |   |   |--- class: 1\n",
      "|   |   |   |   |   |   |   |   |   |--- recent_pdays >  0.01\n",
      "|   |   |   |   |   |   |   |   |   |   |--- age <= 30.50\n",
      "|   |   |   |   |   |   |   |   |   |   |   |--- class: 1\n",
      "|   |   |   |   |   |   |   |   |   |   |--- age >  30.50\n",
      "|   |   |   |   |   |   |   |   |   |   |   |--- class: 0\n",
      "|   |   |   |   |   |   |   |--- education_tertiary >  0.50\n",
      "|   |   |   |   |   |   |   |   |--- balance <= 2662.50\n",
      "|   |   |   |   |   |   |   |   |   |--- duration <= 268.50\n",
      "|   |   |   |   |   |   |   |   |   |   |--- previous <= 5.50\n",
      "|   |   |   |   |   |   |   |   |   |   |   |--- truncated branch of depth 2\n",
      "|   |   |   |   |   |   |   |   |   |   |--- previous >  5.50\n",
      "|   |   |   |   |   |   |   |   |   |   |   |--- class: 1\n",
      "|   |   |   |   |   |   |   |   |   |--- duration >  268.50\n",
      "|   |   |   |   |   |   |   |   |   |   |--- duration <= 355.00\n",
      "|   |   |   |   |   |   |   |   |   |   |   |--- truncated branch of depth 2\n",
      "|   |   |   |   |   |   |   |   |   |   |--- duration >  355.00\n",
      "|   |   |   |   |   |   |   |   |   |   |   |--- truncated branch of depth 2\n",
      "|   |   |   |   |   |   |   |   |--- balance >  2662.50\n",
      "|   |   |   |   |   |   |   |   |   |--- age <= 28.50\n",
      "|   |   |   |   |   |   |   |   |   |   |--- class: 0\n",
      "|   |   |   |   |   |   |   |   |   |--- age >  28.50\n",
      "|   |   |   |   |   |   |   |   |   |   |--- duration <= 343.00\n",
      "|   |   |   |   |   |   |   |   |   |   |   |--- class: 1\n",
      "|   |   |   |   |   |   |   |   |   |   |--- duration >  343.00\n",
      "|   |   |   |   |   |   |   |   |   |   |   |--- truncated branch of depth 2\n",
      "|   |   |   |   |   |   |--- recent_pdays >  0.01\n",
      "|   |   |   |   |   |   |   |--- age <= 48.50\n",
      "|   |   |   |   |   |   |   |   |--- duration <= 461.50\n",
      "|   |   |   |   |   |   |   |   |   |--- campaign <= 3.50\n",
      "|   |   |   |   |   |   |   |   |   |   |--- balance <= 446.00\n",
      "|   |   |   |   |   |   |   |   |   |   |   |--- truncated branch of depth 2\n",
      "|   |   |   |   |   |   |   |   |   |   |--- balance >  446.00\n",
      "|   |   |   |   |   |   |   |   |   |   |   |--- truncated branch of depth 2\n",
      "|   |   |   |   |   |   |   |   |   |--- campaign >  3.50\n",
      "|   |   |   |   |   |   |   |   |   |   |--- class: 0\n",
      "|   |   |   |   |   |   |   |   |--- duration >  461.50\n",
      "|   |   |   |   |   |   |   |   |   |--- class: 0\n",
      "|   |   |   |   |   |   |   |--- age >  48.50\n",
      "|   |   |   |   |   |   |   |   |--- class: 0\n",
      "|   |   |   |--- poutcome_success >  0.50\n",
      "|   |   |   |   |--- campaign <= 4.00\n",
      "|   |   |   |   |   |--- recent_pdays <= 0.01\n",
      "|   |   |   |   |   |   |--- recent_pdays <= 0.01\n",
      "|   |   |   |   |   |   |   |--- age <= 53.50\n",
      "|   |   |   |   |   |   |   |   |--- job_self-depend <= 0.50\n",
      "|   |   |   |   |   |   |   |   |   |--- age <= 33.50\n",
      "|   |   |   |   |   |   |   |   |   |   |--- job_Pink-collar <= 0.50\n",
      "|   |   |   |   |   |   |   |   |   |   |   |--- truncated branch of depth 2\n",
      "|   |   |   |   |   |   |   |   |   |   |--- job_Pink-collar >  0.50\n",
      "|   |   |   |   |   |   |   |   |   |   |   |--- class: 0\n",
      "|   |   |   |   |   |   |   |   |   |--- age >  33.50\n",
      "|   |   |   |   |   |   |   |   |   |   |--- class: 1\n",
      "|   |   |   |   |   |   |   |   |--- job_self-depend >  0.50\n",
      "|   |   |   |   |   |   |   |   |   |--- duration <= 378.50\n",
      "|   |   |   |   |   |   |   |   |   |   |--- class: 1\n",
      "|   |   |   |   |   |   |   |   |   |--- duration >  378.50\n",
      "|   |   |   |   |   |   |   |   |   |   |--- class: 0\n",
      "|   |   |   |   |   |   |   |--- age >  53.50\n",
      "|   |   |   |   |   |   |   |   |--- age <= 60.50\n",
      "|   |   |   |   |   |   |   |   |   |--- recent_pdays <= 0.01\n",
      "|   |   |   |   |   |   |   |   |   |   |--- class: 0\n",
      "|   |   |   |   |   |   |   |   |   |--- recent_pdays >  0.01\n",
      "|   |   |   |   |   |   |   |   |   |   |--- class: 1\n",
      "|   |   |   |   |   |   |   |   |--- age >  60.50\n",
      "|   |   |   |   |   |   |   |   |   |--- class: 1\n",
      "|   |   |   |   |   |   |--- recent_pdays >  0.01\n",
      "|   |   |   |   |   |   |   |--- job_White-collar <= 0.50\n",
      "|   |   |   |   |   |   |   |   |--- class: 1\n",
      "|   |   |   |   |   |   |   |--- job_White-collar >  0.50\n",
      "|   |   |   |   |   |   |   |   |--- class: 0\n",
      "|   |   |   |   |   |--- recent_pdays >  0.01\n",
      "|   |   |   |   |   |   |--- duration <= 225.50\n",
      "|   |   |   |   |   |   |   |--- marital_married <= 0.50\n",
      "|   |   |   |   |   |   |   |   |--- class: 0\n",
      "|   |   |   |   |   |   |   |--- marital_married >  0.50\n",
      "|   |   |   |   |   |   |   |   |--- class: 1\n",
      "|   |   |   |   |   |   |--- duration >  225.50\n",
      "|   |   |   |   |   |   |   |--- class: 1\n",
      "|   |   |   |   |--- campaign >  4.00\n",
      "|   |   |   |   |   |--- age <= 47.50\n",
      "|   |   |   |   |   |   |--- class: 0\n",
      "|   |   |   |   |   |--- age >  47.50\n",
      "|   |   |   |   |   |   |--- class: 1\n",
      "|   |--- duration >  472.50\n",
      "|   |   |--- duration <= 681.50\n",
      "|   |   |   |--- poutcome_success <= 0.50\n",
      "|   |   |   |   |--- housing_yes <= 0.50\n",
      "|   |   |   |   |   |--- loan_yes <= 0.50\n",
      "|   |   |   |   |   |   |--- age <= 47.50\n",
      "|   |   |   |   |   |   |   |--- balance <= -419.50\n",
      "|   |   |   |   |   |   |   |   |--- class: 0\n",
      "|   |   |   |   |   |   |   |--- balance >  -419.50\n",
      "|   |   |   |   |   |   |   |   |--- balance <= 242.00\n",
      "|   |   |   |   |   |   |   |   |   |--- balance <= 181.50\n",
      "|   |   |   |   |   |   |   |   |   |   |--- balance <= 101.00\n",
      "|   |   |   |   |   |   |   |   |   |   |   |--- truncated branch of depth 2\n",
      "|   |   |   |   |   |   |   |   |   |   |--- balance >  101.00\n",
      "|   |   |   |   |   |   |   |   |   |   |   |--- class: 1\n",
      "|   |   |   |   |   |   |   |   |   |--- balance >  181.50\n",
      "|   |   |   |   |   |   |   |   |   |   |--- duration <= 591.00\n",
      "|   |   |   |   |   |   |   |   |   |   |   |--- truncated branch of depth 2\n",
      "|   |   |   |   |   |   |   |   |   |   |--- duration >  591.00\n",
      "|   |   |   |   |   |   |   |   |   |   |   |--- class: 0\n",
      "|   |   |   |   |   |   |   |   |--- balance >  242.00\n",
      "|   |   |   |   |   |   |   |   |   |--- balance <= 5210.00\n",
      "|   |   |   |   |   |   |   |   |   |   |--- age <= 29.50\n",
      "|   |   |   |   |   |   |   |   |   |   |   |--- class: 1\n",
      "|   |   |   |   |   |   |   |   |   |   |--- age >  29.50\n",
      "|   |   |   |   |   |   |   |   |   |   |   |--- truncated branch of depth 2\n",
      "|   |   |   |   |   |   |   |   |   |--- balance >  5210.00\n",
      "|   |   |   |   |   |   |   |   |   |   |--- campaign <= 1.50\n",
      "|   |   |   |   |   |   |   |   |   |   |   |--- truncated branch of depth 2\n",
      "|   |   |   |   |   |   |   |   |   |   |--- campaign >  1.50\n",
      "|   |   |   |   |   |   |   |   |   |   |   |--- truncated branch of depth 2\n",
      "|   |   |   |   |   |   |--- age >  47.50\n",
      "|   |   |   |   |   |   |   |--- job_self-depend <= 0.50\n",
      "|   |   |   |   |   |   |   |   |--- duration <= 488.50\n",
      "|   |   |   |   |   |   |   |   |   |--- class: 1\n",
      "|   |   |   |   |   |   |   |   |--- duration >  488.50\n",
      "|   |   |   |   |   |   |   |   |   |--- campaign <= 3.50\n",
      "|   |   |   |   |   |   |   |   |   |   |--- balance <= 79.00\n",
      "|   |   |   |   |   |   |   |   |   |   |   |--- truncated branch of depth 2\n",
      "|   |   |   |   |   |   |   |   |   |   |--- balance >  79.00\n",
      "|   |   |   |   |   |   |   |   |   |   |   |--- truncated branch of depth 2\n",
      "|   |   |   |   |   |   |   |   |   |--- campaign >  3.50\n",
      "|   |   |   |   |   |   |   |   |   |   |--- duration <= 506.50\n",
      "|   |   |   |   |   |   |   |   |   |   |   |--- truncated branch of depth 2\n",
      "|   |   |   |   |   |   |   |   |   |   |--- duration >  506.50\n",
      "|   |   |   |   |   |   |   |   |   |   |   |--- class: 1\n",
      "|   |   |   |   |   |   |   |--- job_self-depend >  0.50\n",
      "|   |   |   |   |   |   |   |   |--- balance <= 3765.00\n",
      "|   |   |   |   |   |   |   |   |   |--- balance <= -234.00\n",
      "|   |   |   |   |   |   |   |   |   |   |--- class: 1\n",
      "|   |   |   |   |   |   |   |   |   |--- balance >  -234.00\n",
      "|   |   |   |   |   |   |   |   |   |   |--- class: 0\n",
      "|   |   |   |   |   |   |   |   |--- balance >  3765.00\n",
      "|   |   |   |   |   |   |   |   |   |--- class: 1\n",
      "|   |   |   |   |   |--- loan_yes >  0.50\n",
      "|   |   |   |   |   |   |--- duration <= 559.50\n",
      "|   |   |   |   |   |   |   |--- duration <= 479.50\n",
      "|   |   |   |   |   |   |   |   |--- class: 1\n",
      "|   |   |   |   |   |   |   |--- duration >  479.50\n",
      "|   |   |   |   |   |   |   |   |--- campaign <= 1.50\n",
      "|   |   |   |   |   |   |   |   |   |--- class: 0\n",
      "|   |   |   |   |   |   |   |   |--- campaign >  1.50\n",
      "|   |   |   |   |   |   |   |   |   |--- job_White-collar <= 0.50\n",
      "|   |   |   |   |   |   |   |   |   |   |--- balance <= 1933.00\n",
      "|   |   |   |   |   |   |   |   |   |   |   |--- class: 0\n",
      "|   |   |   |   |   |   |   |   |   |   |--- balance >  1933.00\n",
      "|   |   |   |   |   |   |   |   |   |   |   |--- truncated branch of depth 2\n",
      "|   |   |   |   |   |   |   |   |   |--- job_White-collar >  0.50\n",
      "|   |   |   |   |   |   |   |   |   |   |--- class: 1\n",
      "|   |   |   |   |   |   |--- duration >  559.50\n",
      "|   |   |   |   |   |   |   |--- age <= 49.50\n",
      "|   |   |   |   |   |   |   |   |--- balance <= -315.00\n",
      "|   |   |   |   |   |   |   |   |   |--- class: 0\n",
      "|   |   |   |   |   |   |   |   |--- balance >  -315.00\n",
      "|   |   |   |   |   |   |   |   |   |--- duration <= 677.00\n",
      "|   |   |   |   |   |   |   |   |   |   |--- job_Pink-collar <= 0.50\n",
      "|   |   |   |   |   |   |   |   |   |   |   |--- truncated branch of depth 2\n",
      "|   |   |   |   |   |   |   |   |   |   |--- job_Pink-collar >  0.50\n",
      "|   |   |   |   |   |   |   |   |   |   |   |--- truncated branch of depth 2\n",
      "|   |   |   |   |   |   |   |   |   |--- duration >  677.00\n",
      "|   |   |   |   |   |   |   |   |   |   |--- class: 0\n",
      "|   |   |   |   |   |   |   |--- age >  49.50\n",
      "|   |   |   |   |   |   |   |   |--- balance <= 170.00\n",
      "|   |   |   |   |   |   |   |   |   |--- class: 1\n",
      "|   |   |   |   |   |   |   |   |--- balance >  170.00\n",
      "|   |   |   |   |   |   |   |   |   |--- class: 0\n",
      "|   |   |   |   |--- housing_yes >  0.50\n",
      "|   |   |   |   |   |--- marital_single <= 0.50\n",
      "|   |   |   |   |   |   |--- previous <= 2.50\n",
      "|   |   |   |   |   |   |   |--- balance <= 1355.00\n",
      "|   |   |   |   |   |   |   |   |--- duration <= 606.00\n",
      "|   |   |   |   |   |   |   |   |   |--- balance <= 1278.00\n",
      "|   |   |   |   |   |   |   |   |   |   |--- balance <= 952.00\n",
      "|   |   |   |   |   |   |   |   |   |   |   |--- truncated branch of depth 2\n",
      "|   |   |   |   |   |   |   |   |   |   |--- balance >  952.00\n",
      "|   |   |   |   |   |   |   |   |   |   |   |--- truncated branch of depth 2\n",
      "|   |   |   |   |   |   |   |   |   |--- balance >  1278.00\n",
      "|   |   |   |   |   |   |   |   |   |   |--- class: 0\n",
      "|   |   |   |   |   |   |   |   |--- duration >  606.00\n",
      "|   |   |   |   |   |   |   |   |   |--- duration <= 653.50\n",
      "|   |   |   |   |   |   |   |   |   |   |--- age <= 30.50\n",
      "|   |   |   |   |   |   |   |   |   |   |   |--- truncated branch of depth 2\n",
      "|   |   |   |   |   |   |   |   |   |   |--- age >  30.50\n",
      "|   |   |   |   |   |   |   |   |   |   |   |--- truncated branch of depth 2\n",
      "|   |   |   |   |   |   |   |   |   |--- duration >  653.50\n",
      "|   |   |   |   |   |   |   |   |   |   |--- duration <= 661.50\n",
      "|   |   |   |   |   |   |   |   |   |   |   |--- truncated branch of depth 2\n",
      "|   |   |   |   |   |   |   |   |   |   |--- duration >  661.50\n",
      "|   |   |   |   |   |   |   |   |   |   |   |--- truncated branch of depth 2\n",
      "|   |   |   |   |   |   |   |--- balance >  1355.00\n",
      "|   |   |   |   |   |   |   |   |--- campaign <= 2.50\n",
      "|   |   |   |   |   |   |   |   |   |--- balance <= 2120.50\n",
      "|   |   |   |   |   |   |   |   |   |   |--- age <= 56.50\n",
      "|   |   |   |   |   |   |   |   |   |   |   |--- truncated branch of depth 2\n",
      "|   |   |   |   |   |   |   |   |   |   |--- age >  56.50\n",
      "|   |   |   |   |   |   |   |   |   |   |   |--- truncated branch of depth 2\n",
      "|   |   |   |   |   |   |   |   |   |--- balance >  2120.50\n",
      "|   |   |   |   |   |   |   |   |   |   |--- job_Pink-collar <= 0.50\n",
      "|   |   |   |   |   |   |   |   |   |   |   |--- truncated branch of depth 2\n",
      "|   |   |   |   |   |   |   |   |   |   |--- job_Pink-collar >  0.50\n",
      "|   |   |   |   |   |   |   |   |   |   |   |--- class: 1\n",
      "|   |   |   |   |   |   |   |   |--- campaign >  2.50\n",
      "|   |   |   |   |   |   |   |   |   |--- job_Pink-collar <= 0.50\n",
      "|   |   |   |   |   |   |   |   |   |   |--- loan_yes <= 0.50\n",
      "|   |   |   |   |   |   |   |   |   |   |   |--- class: 1\n",
      "|   |   |   |   |   |   |   |   |   |   |--- loan_yes >  0.50\n",
      "|   |   |   |   |   |   |   |   |   |   |   |--- truncated branch of depth 2\n",
      "|   |   |   |   |   |   |   |   |   |--- job_Pink-collar >  0.50\n",
      "|   |   |   |   |   |   |   |   |   |   |--- education_secondary <= 0.50\n",
      "|   |   |   |   |   |   |   |   |   |   |   |--- class: 0\n",
      "|   |   |   |   |   |   |   |   |   |   |--- education_secondary >  0.50\n",
      "|   |   |   |   |   |   |   |   |   |   |   |--- class: 1\n",
      "|   |   |   |   |   |   |--- previous >  2.50\n",
      "|   |   |   |   |   |   |   |--- age <= 47.50\n",
      "|   |   |   |   |   |   |   |   |--- previous <= 8.50\n",
      "|   |   |   |   |   |   |   |   |   |--- class: 1\n",
      "|   |   |   |   |   |   |   |   |--- previous >  8.50\n",
      "|   |   |   |   |   |   |   |   |   |--- campaign <= 2.50\n",
      "|   |   |   |   |   |   |   |   |   |   |--- class: 1\n",
      "|   |   |   |   |   |   |   |   |   |--- campaign >  2.50\n",
      "|   |   |   |   |   |   |   |   |   |   |--- class: 0\n",
      "|   |   |   |   |   |   |   |--- age >  47.50\n",
      "|   |   |   |   |   |   |   |   |--- marital_married <= 0.50\n",
      "|   |   |   |   |   |   |   |   |   |--- class: 1\n",
      "|   |   |   |   |   |   |   |   |--- marital_married >  0.50\n",
      "|   |   |   |   |   |   |   |   |   |--- class: 0\n",
      "|   |   |   |   |   |--- marital_single >  0.50\n",
      "|   |   |   |   |   |   |--- campaign <= 1.50\n",
      "|   |   |   |   |   |   |   |--- duration <= 479.50\n",
      "|   |   |   |   |   |   |   |   |--- class: 0\n",
      "|   |   |   |   |   |   |   |--- duration >  479.50\n",
      "|   |   |   |   |   |   |   |   |--- balance <= 15942.00\n",
      "|   |   |   |   |   |   |   |   |   |--- duration <= 677.00\n",
      "|   |   |   |   |   |   |   |   |   |   |--- job_White-collar <= 0.50\n",
      "|   |   |   |   |   |   |   |   |   |   |   |--- truncated branch of depth 2\n",
      "|   |   |   |   |   |   |   |   |   |   |--- job_White-collar >  0.50\n",
      "|   |   |   |   |   |   |   |   |   |   |   |--- truncated branch of depth 2\n",
      "|   |   |   |   |   |   |   |   |   |--- duration >  677.00\n",
      "|   |   |   |   |   |   |   |   |   |   |--- balance <= 776.00\n",
      "|   |   |   |   |   |   |   |   |   |   |   |--- class: 1\n",
      "|   |   |   |   |   |   |   |   |   |   |--- balance >  776.00\n",
      "|   |   |   |   |   |   |   |   |   |   |   |--- class: 0\n",
      "|   |   |   |   |   |   |   |   |--- balance >  15942.00\n",
      "|   |   |   |   |   |   |   |   |   |--- education_secondary <= 0.50\n",
      "|   |   |   |   |   |   |   |   |   |   |--- class: 1\n",
      "|   |   |   |   |   |   |   |   |   |--- education_secondary >  0.50\n",
      "|   |   |   |   |   |   |   |   |   |   |--- class: 0\n",
      "|   |   |   |   |   |   |--- campaign >  1.50\n",
      "|   |   |   |   |   |   |   |--- duration <= 523.50\n",
      "|   |   |   |   |   |   |   |   |--- duration <= 491.50\n",
      "|   |   |   |   |   |   |   |   |   |--- duration <= 478.50\n",
      "|   |   |   |   |   |   |   |   |   |   |--- duration <= 474.00\n",
      "|   |   |   |   |   |   |   |   |   |   |   |--- class: 1\n",
      "|   |   |   |   |   |   |   |   |   |   |--- duration >  474.00\n",
      "|   |   |   |   |   |   |   |   |   |   |   |--- class: 0\n",
      "|   |   |   |   |   |   |   |   |   |--- duration >  478.50\n",
      "|   |   |   |   |   |   |   |   |   |   |--- class: 1\n",
      "|   |   |   |   |   |   |   |   |--- duration >  491.50\n",
      "|   |   |   |   |   |   |   |   |   |--- poutcome_others <= 0.50\n",
      "|   |   |   |   |   |   |   |   |   |   |--- class: 1\n",
      "|   |   |   |   |   |   |   |   |   |--- poutcome_others >  0.50\n",
      "|   |   |   |   |   |   |   |   |   |   |--- education_tertiary <= 0.50\n",
      "|   |   |   |   |   |   |   |   |   |   |   |--- class: 0\n",
      "|   |   |   |   |   |   |   |   |   |   |--- education_tertiary >  0.50\n",
      "|   |   |   |   |   |   |   |   |   |   |   |--- truncated branch of depth 2\n",
      "|   |   |   |   |   |   |   |--- duration >  523.50\n",
      "|   |   |   |   |   |   |   |   |--- job_self-depend <= 0.50\n",
      "|   |   |   |   |   |   |   |   |   |--- education_unknown <= 0.50\n",
      "|   |   |   |   |   |   |   |   |   |   |--- age <= 44.00\n",
      "|   |   |   |   |   |   |   |   |   |   |   |--- truncated branch of depth 2\n",
      "|   |   |   |   |   |   |   |   |   |   |--- age >  44.00\n",
      "|   |   |   |   |   |   |   |   |   |   |   |--- truncated branch of depth 2\n",
      "|   |   |   |   |   |   |   |   |   |--- education_unknown >  0.50\n",
      "|   |   |   |   |   |   |   |   |   |   |--- age <= 25.50\n",
      "|   |   |   |   |   |   |   |   |   |   |   |--- class: 1\n",
      "|   |   |   |   |   |   |   |   |   |   |--- age >  25.50\n",
      "|   |   |   |   |   |   |   |   |   |   |   |--- class: 0\n",
      "|   |   |   |   |   |   |   |   |--- job_self-depend >  0.50\n",
      "|   |   |   |   |   |   |   |   |   |--- age <= 28.00\n",
      "|   |   |   |   |   |   |   |   |   |   |--- class: 1\n",
      "|   |   |   |   |   |   |   |   |   |--- age >  28.00\n",
      "|   |   |   |   |   |   |   |   |   |   |--- class: 0\n",
      "|   |   |   |--- poutcome_success >  0.50\n",
      "|   |   |   |   |--- balance <= 13362.50\n",
      "|   |   |   |   |   |--- age <= 25.50\n",
      "|   |   |   |   |   |   |--- recent_pdays <= 0.01\n",
      "|   |   |   |   |   |   |   |--- class: 0\n",
      "|   |   |   |   |   |   |--- recent_pdays >  0.01\n",
      "|   |   |   |   |   |   |   |--- class: 1\n",
      "|   |   |   |   |   |--- age >  25.50\n",
      "|   |   |   |   |   |   |--- recent_pdays <= 0.02\n",
      "|   |   |   |   |   |   |   |--- class: 1\n",
      "|   |   |   |   |   |   |--- recent_pdays >  0.02\n",
      "|   |   |   |   |   |   |   |--- balance <= 138.50\n",
      "|   |   |   |   |   |   |   |   |--- class: 0\n",
      "|   |   |   |   |   |   |   |--- balance >  138.50\n",
      "|   |   |   |   |   |   |   |   |--- class: 1\n",
      "|   |   |   |   |--- balance >  13362.50\n",
      "|   |   |   |   |   |--- class: 0\n",
      "|   |   |--- duration >  681.50\n",
      "|   |   |   |--- duration <= 922.50\n",
      "|   |   |   |   |--- recent_pdays <= 0.01\n",
      "|   |   |   |   |   |--- previous <= 3.50\n",
      "|   |   |   |   |   |   |--- balance <= 14177.50\n",
      "|   |   |   |   |   |   |   |--- duration <= 912.50\n",
      "|   |   |   |   |   |   |   |   |--- campaign <= 5.50\n",
      "|   |   |   |   |   |   |   |   |   |--- duration <= 807.00\n",
      "|   |   |   |   |   |   |   |   |   |   |--- duration <= 752.00\n",
      "|   |   |   |   |   |   |   |   |   |   |   |--- truncated branch of depth 2\n",
      "|   |   |   |   |   |   |   |   |   |   |--- duration >  752.00\n",
      "|   |   |   |   |   |   |   |   |   |   |   |--- truncated branch of depth 2\n",
      "|   |   |   |   |   |   |   |   |   |--- duration >  807.00\n",
      "|   |   |   |   |   |   |   |   |   |   |--- balance <= -291.00\n",
      "|   |   |   |   |   |   |   |   |   |   |   |--- truncated branch of depth 2\n",
      "|   |   |   |   |   |   |   |   |   |   |--- balance >  -291.00\n",
      "|   |   |   |   |   |   |   |   |   |   |   |--- truncated branch of depth 2\n",
      "|   |   |   |   |   |   |   |   |--- campaign >  5.50\n",
      "|   |   |   |   |   |   |   |   |   |--- balance <= 633.00\n",
      "|   |   |   |   |   |   |   |   |   |   |--- balance <= 494.50\n",
      "|   |   |   |   |   |   |   |   |   |   |   |--- truncated branch of depth 2\n",
      "|   |   |   |   |   |   |   |   |   |   |--- balance >  494.50\n",
      "|   |   |   |   |   |   |   |   |   |   |   |--- truncated branch of depth 2\n",
      "|   |   |   |   |   |   |   |   |   |--- balance >  633.00\n",
      "|   |   |   |   |   |   |   |   |   |   |--- campaign <= 10.50\n",
      "|   |   |   |   |   |   |   |   |   |   |   |--- class: 1\n",
      "|   |   |   |   |   |   |   |   |   |   |--- campaign >  10.50\n",
      "|   |   |   |   |   |   |   |   |   |   |   |--- truncated branch of depth 2\n",
      "|   |   |   |   |   |   |   |--- duration >  912.50\n",
      "|   |   |   |   |   |   |   |   |--- campaign <= 1.50\n",
      "|   |   |   |   |   |   |   |   |   |--- class: 1\n",
      "|   |   |   |   |   |   |   |   |--- campaign >  1.50\n",
      "|   |   |   |   |   |   |   |   |   |--- balance <= 317.00\n",
      "|   |   |   |   |   |   |   |   |   |   |--- balance <= -175.00\n",
      "|   |   |   |   |   |   |   |   |   |   |   |--- class: 0\n",
      "|   |   |   |   |   |   |   |   |   |   |--- balance >  -175.00\n",
      "|   |   |   |   |   |   |   |   |   |   |   |--- class: 1\n",
      "|   |   |   |   |   |   |   |   |   |--- balance >  317.00\n",
      "|   |   |   |   |   |   |   |   |   |   |--- balance <= 815.50\n",
      "|   |   |   |   |   |   |   |   |   |   |   |--- class: 0\n",
      "|   |   |   |   |   |   |   |   |   |   |--- balance >  815.50\n",
      "|   |   |   |   |   |   |   |   |   |   |   |--- truncated branch of depth 2\n",
      "|   |   |   |   |   |   |--- balance >  14177.50\n",
      "|   |   |   |   |   |   |   |--- education_tertiary <= 0.50\n",
      "|   |   |   |   |   |   |   |   |--- class: 0\n",
      "|   |   |   |   |   |   |   |--- education_tertiary >  0.50\n",
      "|   |   |   |   |   |   |   |   |--- class: 1\n",
      "|   |   |   |   |   |--- previous >  3.50\n",
      "|   |   |   |   |   |   |--- poutcome_others <= 0.50\n",
      "|   |   |   |   |   |   |   |--- age <= 57.50\n",
      "|   |   |   |   |   |   |   |   |--- class: 1\n",
      "|   |   |   |   |   |   |   |--- age >  57.50\n",
      "|   |   |   |   |   |   |   |   |--- class: 0\n",
      "|   |   |   |   |   |   |--- poutcome_others >  0.50\n",
      "|   |   |   |   |   |   |   |--- class: 0\n",
      "|   |   |   |   |--- recent_pdays >  0.01\n",
      "|   |   |   |   |   |--- loan_yes <= 0.50\n",
      "|   |   |   |   |   |   |--- class: 1\n",
      "|   |   |   |   |   |--- loan_yes >  0.50\n",
      "|   |   |   |   |   |   |--- marital_single <= 0.50\n",
      "|   |   |   |   |   |   |   |--- housing_yes <= 0.50\n",
      "|   |   |   |   |   |   |   |   |--- class: 1\n",
      "|   |   |   |   |   |   |   |--- housing_yes >  0.50\n",
      "|   |   |   |   |   |   |   |   |--- class: 0\n",
      "|   |   |   |   |   |   |--- marital_single >  0.50\n",
      "|   |   |   |   |   |   |   |--- class: 1\n",
      "|   |   |   |--- duration >  922.50\n",
      "|   |   |   |   |--- age <= 86.50\n",
      "|   |   |   |   |   |--- recent_pdays <= 0.54\n",
      "|   |   |   |   |   |   |--- balance <= 5959.50\n",
      "|   |   |   |   |   |   |   |--- balance <= 5896.00\n",
      "|   |   |   |   |   |   |   |   |--- balance <= 4319.50\n",
      "|   |   |   |   |   |   |   |   |   |--- age <= 65.50\n",
      "|   |   |   |   |   |   |   |   |   |   |--- balance <= 85.50\n",
      "|   |   |   |   |   |   |   |   |   |   |   |--- truncated branch of depth 2\n",
      "|   |   |   |   |   |   |   |   |   |   |--- balance >  85.50\n",
      "|   |   |   |   |   |   |   |   |   |   |   |--- truncated branch of depth 2\n",
      "|   |   |   |   |   |   |   |   |   |--- age >  65.50\n",
      "|   |   |   |   |   |   |   |   |   |   |--- duration <= 1129.00\n",
      "|   |   |   |   |   |   |   |   |   |   |   |--- class: 1\n",
      "|   |   |   |   |   |   |   |   |   |   |--- duration >  1129.00\n",
      "|   |   |   |   |   |   |   |   |   |   |   |--- truncated branch of depth 2\n",
      "|   |   |   |   |   |   |   |   |--- balance >  4319.50\n",
      "|   |   |   |   |   |   |   |   |   |--- balance <= 5276.00\n",
      "|   |   |   |   |   |   |   |   |   |   |--- age <= 53.50\n",
      "|   |   |   |   |   |   |   |   |   |   |   |--- truncated branch of depth 2\n",
      "|   |   |   |   |   |   |   |   |   |   |--- age >  53.50\n",
      "|   |   |   |   |   |   |   |   |   |   |   |--- class: 1\n",
      "|   |   |   |   |   |   |   |   |   |--- balance >  5276.00\n",
      "|   |   |   |   |   |   |   |   |   |   |--- class: 1\n",
      "|   |   |   |   |   |   |   |--- balance >  5896.00\n",
      "|   |   |   |   |   |   |   |   |--- class: 0\n",
      "|   |   |   |   |   |   |--- balance >  5959.50\n",
      "|   |   |   |   |   |   |   |--- class: 1\n",
      "|   |   |   |   |   |--- recent_pdays >  0.54\n",
      "|   |   |   |   |   |   |--- class: 0\n",
      "|   |   |   |   |--- age >  86.50\n",
      "|   |   |   |   |   |--- class: 0\n",
      "\n"
     ]
    }
   ],
   "source": [
    "print(rules)"
   ]
  },
  {
   "cell_type": "code",
   "execution_count": 59,
   "metadata": {},
   "outputs": [
    {
     "name": "stdout",
     "output_type": "stream",
     "text": [
      "Train accuracy: 0.8218165528054653\n",
      "Test accuracy: 0.8016121809225257\n"
     ]
    }
   ],
   "source": [
    "dt1=DecisionTreeClassifier(max_depth=20, criterion=\"entropy\", min_samples_split=250)\n",
    "dt1.fit(X_train, y_train)\n",
    "print(\"Train accuracy:\", dt1.score(X_train,y_train))\n",
    "print(\"Test accuracy:\", dt1.score(X_test,y_test))"
   ]
  },
  {
   "cell_type": "code",
   "execution_count": 60,
   "metadata": {},
   "outputs": [
    {
     "ename": "NameError",
     "evalue": "name 'train_accuracy' is not defined",
     "output_type": "error",
     "traceback": [
      "\u001b[1;31m---------------------------------------------------------------------------\u001b[0m",
      "\u001b[1;31mNameError\u001b[0m                                 Traceback (most recent call last)",
      "\u001b[1;32m~\\AppData\\Local\\Temp/ipykernel_43580/2456902193.py\u001b[0m in \u001b[0;36m<module>\u001b[1;34m\u001b[0m\n\u001b[0;32m      1\u001b[0m \u001b[0mplt\u001b[0m\u001b[1;33m.\u001b[0m\u001b[0mfigure\u001b[0m\u001b[1;33m(\u001b[0m\u001b[0mfigsize\u001b[0m\u001b[1;33m=\u001b[0m\u001b[1;33m(\u001b[0m\u001b[1;36m8\u001b[0m\u001b[1;33m,\u001b[0m\u001b[1;36m6\u001b[0m\u001b[1;33m)\u001b[0m\u001b[1;33m)\u001b[0m\u001b[1;33m\u001b[0m\u001b[1;33m\u001b[0m\u001b[0m\n\u001b[1;32m----> 2\u001b[1;33m \u001b[0mplt\u001b[0m\u001b[1;33m.\u001b[0m\u001b[0mplot\u001b[0m\u001b[1;33m(\u001b[0m\u001b[0mrange\u001b[0m\u001b[1;33m(\u001b[0m\u001b[1;36m225\u001b[0m\u001b[1;33m)\u001b[0m\u001b[1;33m,\u001b[0m \u001b[0mtrain_accuracy\u001b[0m\u001b[1;33m,\u001b[0m \u001b[0mlabel\u001b[0m\u001b[1;33m=\u001b[0m\u001b[1;34m\"Train\"\u001b[0m\u001b[1;33m)\u001b[0m\u001b[1;33m\u001b[0m\u001b[1;33m\u001b[0m\u001b[0m\n\u001b[0m\u001b[0;32m      3\u001b[0m \u001b[0mplt\u001b[0m\u001b[1;33m.\u001b[0m\u001b[0mplot\u001b[0m\u001b[1;33m(\u001b[0m\u001b[0mrange\u001b[0m\u001b[1;33m(\u001b[0m\u001b[1;36m225\u001b[0m\u001b[1;33m)\u001b[0m\u001b[1;33m,\u001b[0m \u001b[0mtest_accuracy\u001b[0m \u001b[1;33m,\u001b[0m \u001b[0mlabel\u001b[0m\u001b[1;33m=\u001b[0m\u001b[1;34m\"Tests\"\u001b[0m\u001b[1;33m)\u001b[0m\u001b[1;33m\u001b[0m\u001b[1;33m\u001b[0m\u001b[0m\n\u001b[0;32m      4\u001b[0m \u001b[0mplt\u001b[0m\u001b[1;33m.\u001b[0m\u001b[0mlegend\u001b[0m\u001b[1;33m(\u001b[0m\u001b[1;33m)\u001b[0m\u001b[1;33m\u001b[0m\u001b[1;33m\u001b[0m\u001b[0m\n\u001b[0;32m      5\u001b[0m \u001b[0mplt\u001b[0m\u001b[1;33m.\u001b[0m\u001b[0mshow\u001b[0m\u001b[1;33m(\u001b[0m\u001b[1;33m)\u001b[0m\u001b[1;33m\u001b[0m\u001b[1;33m\u001b[0m\u001b[0m\n",
      "\u001b[1;31mNameError\u001b[0m: name 'train_accuracy' is not defined"
     ]
    },
    {
     "data": {
      "text/plain": [
       "<Figure size 576x432 with 0 Axes>"
      ]
     },
     "metadata": {},
     "output_type": "display_data"
    }
   ],
   "source": [
    "plt.figure(figsize=(8,6))\n",
    "plt.plot(range(225), train_accuracy, label=\"Train\")\n",
    "plt.plot(range(225), test_accuracy , label=\"Tests\")\n",
    "plt.legend()\n",
    "plt.show()"
   ]
  },
  {
   "cell_type": "code",
   "execution_count": null,
   "metadata": {},
   "outputs": [],
   "source": [
    "from sklearn.model_selection import GridSearchCV\n",
    "params={\"criterion\": [\"gini\", \"entropy\"],\n",
    "       \"max_depth\": [6,8,10,12,15],\n",
    "       \"min_samples_split\":[10,50,100,150,200],\n",
    "       \"min_samples_leaf\":[5,10,20,50]}\n",
    "\n",
    "dt_cv=DecisionTreeClassifier()\n",
    "Gsearch_dt=GridSearchCV(estimator=dt_cv,param_grid=params, cv=10, \n",
    "             n_jobs=-1, verbose=1,scoring=\"accuracy\")\n",
    "\n",
    "Gsearch_dt.fit(X_train, y_train)"
   ]
  },
  {
   "cell_type": "code",
   "execution_count": null,
   "metadata": {},
   "outputs": [],
   "source": [
    "from sklearn.model_selection import GridSearchCV\n",
    "params={\"criterion\": [\"gini\", \"entropy\"],\n",
    "       \"max_depth\": [6,8,10,12,15],\n",
    "       \"min_samples_split\":[10,50,100,150,200],\n",
    "       \"min_samples_leaf\":[5,10,20,50]}\n",
    "\n",
    "dt_cv=DecisionTreeClassifier()\n",
    "Gsearch_dt=GridSearchCV(estimator=dt_cv,param_grid=params, cv=10, \n",
    "             n_jobs=-1, verbose=1,scoring=\"accuracy\")\n",
    "\n",
    "Gsearch_dt.fit(X_train, y_train)"
   ]
  },
  {
   "cell_type": "code",
   "execution_count": null,
   "metadata": {},
   "outputs": [],
   "source": [
    "# help(GridSearchCV)"
   ]
  },
  {
   "cell_type": "code",
   "execution_count": null,
   "metadata": {},
   "outputs": [],
   "source": [
    "Gsearch_dt.best_score_"
   ]
  },
  {
   "cell_type": "code",
   "execution_count": null,
   "metadata": {},
   "outputs": [],
   "source": [
    "Gsearch_dt.best_params_"
   ]
  },
  {
   "cell_type": "code",
   "execution_count": null,
   "metadata": {},
   "outputs": [],
   "source": [
    "from sklearn.model_selection import GridSearchCV\n",
    "params={\"criterion\": [\"gini\", \"entropy\"],\n",
    "       \"max_depth\": [6,8,10,12,15],\n",
    "       \"min_samples_split\":[100,150,200, 250,300,350],\n",
    "       \"min_samples_leaf\":[5,10,20,50]}\n",
    "\n",
    "dt_cv=DecisionTreeClassifier()\n",
    "Gsearch_dt=GridSearchCV(estimator=dt_cv,param_grid=params, cv=10, \n",
    "             n_jobs=-1, verbose=1,scoring=\"accuracy\")\n",
    "\n",
    "Gsearch_dt.fit(X_train, y_train)"
   ]
  },
  {
   "cell_type": "code",
   "execution_count": null,
   "metadata": {},
   "outputs": [],
   "source": [
    "Gsearch_dt.best_params_"
   ]
  },
  {
   "cell_type": "code",
   "execution_count": null,
   "metadata": {},
   "outputs": [],
   "source": [
    "dt3=DecisionTreeClassifier(max_depth=15, criterion=\"gini\", \n",
    "                           min_samples_split=200,\n",
    "                          min_samples_leaf= 10)\n",
    "dt3.fit(X_train, y_train)\n",
    "print(\"Train accuracy:\", dt3.score(X_train,y_train))\n",
    "\n",
    "print(\"Test accuracy:\", dt3.score(X_test,y_test))"
   ]
  },
  {
   "cell_type": "code",
   "execution_count": null,
   "metadata": {},
   "outputs": [],
   "source": [
    "pred_train=dt3.predict(X_train)  \n",
    "pred_test=dt3.predict(X_test)"
   ]
  },
  {
   "cell_type": "code",
   "execution_count": null,
   "metadata": {},
   "outputs": [],
   "source": [
    "print(metrics.classification_report(y_train, pred_train))"
   ]
  },
  {
   "cell_type": "code",
   "execution_count": null,
   "metadata": {},
   "outputs": [],
   "source": [
    "print(metrics.classification_report(y_test, pred_test))"
   ]
  },
  {
   "cell_type": "code",
   "execution_count": null,
   "metadata": {},
   "outputs": [],
   "source": [
    "probs=dt3.predict_proba(X_train)[:,1]\n",
    "fpr, tpr, threshold=metrics.roc_curve(y_train,probs )\n",
    "plt.plot([0,1],[0,1],'k--')\n",
    "plt.plot(fpr,tpr, label='Knn')\n",
    "plt.xlabel('fpr')\n",
    "plt.ylabel('tpr')\n",
    "plt.show()"
   ]
  },
  {
   "cell_type": "code",
   "execution_count": null,
   "metadata": {},
   "outputs": [],
   "source": [
    "metrics.roc_auc_score(y_train,probs) "
   ]
  },
  {
   "cell_type": "code",
   "execution_count": null,
   "metadata": {},
   "outputs": [],
   "source": [
    "cm=metrics.confusion_matrix(y_train,pred_train)\n",
    "cm"
   ]
  },
  {
   "cell_type": "code",
   "execution_count": null,
   "metadata": {},
   "outputs": [],
   "source": []
  },
  {
   "cell_type": "code",
   "execution_count": null,
   "metadata": {},
   "outputs": [],
   "source": []
  },
  {
   "cell_type": "code",
   "execution_count": null,
   "metadata": {},
   "outputs": [],
   "source": [
    "def evaluate(y,predY):\n",
    "    cm=metrics.confusion_matrix(y,predY)\n",
    "    accuracy=(cm[0,0]+cm[1,1])/cm.sum()\n",
    "    recall_1=(cm[1,1])/(cm[1,1]+cm[1,0])\n",
    "    fg= pd.DataFrame({\"Accuracy\":pd.Series(accuracy),\n",
    "                 \"Recall_1\":pd.Series(recall_1)})\n",
    "    return fg"
   ]
  },
  {
   "cell_type": "code",
   "execution_count": null,
   "metadata": {},
   "outputs": [],
   "source": [
    "evaluate(y_train, pred_train)"
   ]
  },
  {
   "cell_type": "code",
   "execution_count": null,
   "metadata": {},
   "outputs": [],
   "source": [
    "evaluate(y_test, pred_test)"
   ]
  },
  {
   "cell_type": "code",
   "execution_count": null,
   "metadata": {},
   "outputs": [],
   "source": [
    "def profile_decile(X,y,trained_model):\n",
    "    X_1=X.copy()\n",
    "    y_1=y.copy()\n",
    "    y_pred1=trained_model.predict(X_1)\n",
    "    X_1[\"Prob_Event\"]=trained_model.predict_proba(X_1)[:,1]\n",
    "    X_1[\"Y_actual\"]=y_1\n",
    "    X_1[\"Y_pred\"]=y_pred1\n",
    "    \n",
    "    X_1[\"Rank\"]=pd.qcut(X_1[\"Prob_Event\"], 10, labels=np.arange(0,10,1))\n",
    "    X_1[\"numb\"]=10\n",
    "    X_1[\"Decile\"]=X_1[\"numb\"]-X_1[\"Rank\"].astype(\"int\")\n",
    "    \n",
    "    profile=pd.DataFrame(X_1.groupby(\"Decile\") \\\n",
    "                        .apply(lambda x: pd.Series({\n",
    "        'min_score'   : x[\"Prob_Event\"].min(),\n",
    "        'max_score'   : x[\"Prob_Event\"].max(),\n",
    "        'Event'       : x[\"Y_actual\"].sum(),\n",
    "        'Non_event'   : x[\"Y_actual\"].count()-x[\"Y_actual\"].sum(),\n",
    "        'Total'       : x[\"Y_actual\"].count() })))\n",
    "    return profile\n",
    "    "
   ]
  },
  {
   "cell_type": "code",
   "execution_count": null,
   "metadata": {},
   "outputs": [],
   "source": [
    "p_train=profile_decile(X_train,y_train,dt3)"
   ]
  },
  {
   "cell_type": "code",
   "execution_count": null,
   "metadata": {},
   "outputs": [],
   "source": [
    "p_test=profile_decile(X_test,y_test,dt3)"
   ]
  },
  {
   "cell_type": "code",
   "execution_count": null,
   "metadata": {},
   "outputs": [],
   "source": [
    "p_train.to_csv(\"train_profile.csv\")"
   ]
  },
  {
   "cell_type": "code",
   "execution_count": null,
   "metadata": {},
   "outputs": [],
   "source": [
    "os.getcwd()"
   ]
  },
  {
   "cell_type": "code",
   "execution_count": null,
   "metadata": {},
   "outputs": [],
   "source": [
    "X_train.columns"
   ]
  },
  {
   "cell_type": "code",
   "execution_count": null,
   "metadata": {},
   "outputs": [],
   "source": [
    "dt3.feature_importances_"
   ]
  },
  {
   "cell_type": "code",
   "execution_count": null,
   "metadata": {},
   "outputs": [],
   "source": [
    "fg=pd.DataFrame({\"Var\":X_train.columns, \"Imp\":dt3.feature_importances_}).sort_values(by=[\"Imp\"], ascending=False)\n",
    "imp=fg[fg[\"Imp\"]>=0.002758]"
   ]
  },
  {
   "cell_type": "code",
   "execution_count": null,
   "metadata": {},
   "outputs": [],
   "source": [
    "imp[\"Var\"].values"
   ]
  },
  {
   "cell_type": "code",
   "execution_count": null,
   "metadata": {},
   "outputs": [],
   "source": [
    "imp_feat=['duration', 'poutcome_success', 'housing_yes', 'recent_pdays',\n",
    "       'age', 'balance', 'campaign', 'loan_yes', 'job_blue-collar']"
   ]
  },
  {
   "cell_type": "code",
   "execution_count": null,
   "metadata": {},
   "outputs": [],
   "source": [
    "xx1=X_train[imp_feat]\n",
    "xx2=X_test[imp_feat]"
   ]
  },
  {
   "cell_type": "code",
   "execution_count": null,
   "metadata": {},
   "outputs": [],
   "source": [
    "dt4=DecisionTreeClassifier(max_depth=11, criterion=\"gini\", \n",
    "                           min_samples_split=200,\n",
    "                          min_samples_leaf= 10)\n",
    "dt4.fit(xx1, y_train)\n",
    "print(\"Train accuracy:\", dt4.score(xx1,y_train))\n",
    "print(\"Test accuracy:\", dt4.score(xx2,y_test))"
   ]
  },
  {
   "cell_type": "code",
   "execution_count": null,
   "metadata": {},
   "outputs": [],
   "source": [
    "Train accuracy: 0.8267443162728189\n",
    "Test accuracy: 0.800268696820421"
   ]
  },
  {
   "cell_type": "code",
   "execution_count": null,
   "metadata": {},
   "outputs": [],
   "source": []
  },
  {
   "cell_type": "code",
   "execution_count": null,
   "metadata": {},
   "outputs": [],
   "source": []
  },
  {
   "cell_type": "code",
   "execution_count": null,
   "metadata": {},
   "outputs": [],
   "source": []
  },
  {
   "cell_type": "code",
   "execution_count": null,
   "metadata": {},
   "outputs": [],
   "source": [
    "from sklearn.tree import DecisionTreeRegressor"
   ]
  },
  {
   "cell_type": "code",
   "execution_count": null,
   "metadata": {},
   "outputs": [],
   "source": [
    "dtr=DecisionTreeRegressor()"
   ]
  },
  {
   "cell_type": "code",
   "execution_count": null,
   "metadata": {},
   "outputs": [],
   "source": [
    "os.chdir(r\"C:\\Users\\Archit\\Desktop\\Imarticus\\LinearRegressionusingPython\\Linear Regression using Python\")"
   ]
  },
  {
   "cell_type": "code",
   "execution_count": null,
   "metadata": {},
   "outputs": [],
   "source": [
    "os.listdir()"
   ]
  },
  {
   "cell_type": "code",
   "execution_count": null,
   "metadata": {},
   "outputs": [],
   "source": [
    "fish=pd.read_csv(\"Fish_dataset.csv\")"
   ]
  },
  {
   "cell_type": "code",
   "execution_count": null,
   "metadata": {},
   "outputs": [],
   "source": [
    "fish.dtypes"
   ]
  },
  {
   "cell_type": "code",
   "execution_count": null,
   "metadata": {},
   "outputs": [],
   "source": [
    "fish.dtypes[fish.dtypes==\"float\"]"
   ]
  },
  {
   "cell_type": "code",
   "execution_count": null,
   "metadata": {},
   "outputs": [],
   "source": [
    "fish.isnull().sum()"
   ]
  },
  {
   "cell_type": "code",
   "execution_count": null,
   "metadata": {},
   "outputs": [],
   "source": [
    "fish[\"Species\"].value_counts()"
   ]
  },
  {
   "cell_type": "code",
   "execution_count": null,
   "metadata": {},
   "outputs": [],
   "source": []
  },
  {
   "cell_type": "code",
   "execution_count": null,
   "metadata": {},
   "outputs": [],
   "source": []
  },
  {
   "cell_type": "code",
   "execution_count": null,
   "metadata": {},
   "outputs": [],
   "source": [
    "fish1=pd.get_dummies(fish, columns=[\"Species\"])"
   ]
  },
  {
   "cell_type": "code",
   "execution_count": null,
   "metadata": {},
   "outputs": [],
   "source": [
    "y=fish1[\"Weight\"]\n",
    "x=fish1.drop([\"Weight\"], axis=1)"
   ]
  },
  {
   "cell_type": "code",
   "execution_count": null,
   "metadata": {},
   "outputs": [],
   "source": [
    "from sklearn.model_selection import train_test_split\n",
    "from sklearn.tree import DecisionTreeRegressor"
   ]
  },
  {
   "cell_type": "code",
   "execution_count": null,
   "metadata": {},
   "outputs": [],
   "source": [
    "x_train, x_test, y_train, y_test=train_test_split(x,y, test_size=.2, random_state=0)"
   ]
  },
  {
   "cell_type": "code",
   "execution_count": null,
   "metadata": {},
   "outputs": [],
   "source": [
    "drt1=DecisionTreeRegressor()\n",
    "drt1.fit(x_train, y_train)"
   ]
  },
  {
   "cell_type": "code",
   "execution_count": null,
   "metadata": {},
   "outputs": [],
   "source": [
    "print(\"Train accuracy:\", drt1.score(x_train,y_train))\n",
    "print(\"Test accuracy:\", drt1.score(x_test,y_test))"
   ]
  },
  {
   "cell_type": "code",
   "execution_count": null,
   "metadata": {},
   "outputs": [],
   "source": [
    "# help(drt1)"
   ]
  },
  {
   "cell_type": "code",
   "execution_count": null,
   "metadata": {},
   "outputs": [],
   "source": [
    "criterion=(\"squared_error\", \"friedman_mse\", \"absolute_error\", \"poisson\")"
   ]
  },
  {
   "cell_type": "code",
   "execution_count": null,
   "metadata": {},
   "outputs": [],
   "source": [
    "drt1=DecisionTreeRegressor(criterion=\"squared_error\", min_samples_leaf=12)\n",
    "drt1.fit(x_train, y_train)\n",
    "print(\"Train accuracy:\", drt1.score(x_train,y_train))\n",
    "print(\"Test accuracy:\", drt1.score(x_test,y_test))"
   ]
  },
  {
   "cell_type": "code",
   "execution_count": null,
   "metadata": {},
   "outputs": [],
   "source": [
    "drt1.feature_importances_"
   ]
  },
  {
   "cell_type": "code",
   "execution_count": null,
   "metadata": {},
   "outputs": [],
   "source": [
    "x_train.columns"
   ]
  },
  {
   "cell_type": "code",
   "execution_count": null,
   "metadata": {},
   "outputs": [],
   "source": [
    "pd.DataFrame({\"Col\":x_train.columns, \"Imp\":drt1.feature_importances_}) "
   ]
  },
  {
   "cell_type": "code",
   "execution_count": null,
   "metadata": {},
   "outputs": [],
   "source": []
  },
  {
   "cell_type": "code",
   "execution_count": null,
   "metadata": {},
   "outputs": [],
   "source": []
  },
  {
   "cell_type": "code",
   "execution_count": null,
   "metadata": {},
   "outputs": [],
   "source": []
  },
  {
   "cell_type": "code",
   "execution_count": null,
   "metadata": {},
   "outputs": [],
   "source": []
  },
  {
   "cell_type": "code",
   "execution_count": null,
   "metadata": {},
   "outputs": [],
   "source": []
  },
  {
   "cell_type": "code",
   "execution_count": null,
   "metadata": {},
   "outputs": [],
   "source": []
  },
  {
   "cell_type": "code",
   "execution_count": null,
   "metadata": {},
   "outputs": [],
   "source": []
  },
  {
   "cell_type": "code",
   "execution_count": null,
   "metadata": {},
   "outputs": [],
   "source": []
  },
  {
   "cell_type": "code",
   "execution_count": null,
   "metadata": {},
   "outputs": [],
   "source": []
  },
  {
   "cell_type": "code",
   "execution_count": null,
   "metadata": {},
   "outputs": [],
   "source": []
  },
  {
   "cell_type": "code",
   "execution_count": null,
   "metadata": {},
   "outputs": [],
   "source": []
  },
  {
   "cell_type": "code",
   "execution_count": null,
   "metadata": {},
   "outputs": [],
   "source": []
  },
  {
   "cell_type": "code",
   "execution_count": null,
   "metadata": {},
   "outputs": [],
   "source": []
  },
  {
   "cell_type": "code",
   "execution_count": null,
   "metadata": {},
   "outputs": [],
   "source": []
  },
  {
   "cell_type": "code",
   "execution_count": null,
   "metadata": {},
   "outputs": [],
   "source": [
    "# X"
   ]
  },
  {
   "cell_type": "markdown",
   "metadata": {},
   "source": [
    "### Random Forest Classifiers"
   ]
  },
  {
   "cell_type": "code",
   "execution_count": 61,
   "metadata": {},
   "outputs": [],
   "source": [
    "X_train, X_test, y_train, y_test=train_test_split(X,y, test_size=0.2, random_state=0)"
   ]
  },
  {
   "cell_type": "code",
   "execution_count": 62,
   "metadata": {},
   "outputs": [],
   "source": [
    "from sklearn.ensemble import RandomForestClassifier"
   ]
  },
  {
   "cell_type": "code",
   "execution_count": 63,
   "metadata": {},
   "outputs": [],
   "source": [
    "rf1=RandomForestClassifier(n_estimators=200)"
   ]
  },
  {
   "cell_type": "code",
   "execution_count": 64,
   "metadata": {},
   "outputs": [
    {
     "name": "stdout",
     "output_type": "stream",
     "text": [
      "Train Accuracy : 1.0\n",
      "Test Accuracy : 0.8042991491267353\n"
     ]
    }
   ],
   "source": [
    "rf1.fit(X_train, y_train)\n",
    "print(\"Train Accuracy :\", rf1.score(X_train,y_train))   # by default accuracy is 100% because decision tree is overfit \n",
    "print(\"Test Accuracy :\", rf1.score(X_test,y_test))"
   ]
  },
  {
   "cell_type": "code",
   "execution_count": 65,
   "metadata": {},
   "outputs": [],
   "source": [
    "# help(rf1)"
   ]
  },
  {
   "cell_type": "code",
   "execution_count": 70,
   "metadata": {},
   "outputs": [
    {
     "name": "stdout",
     "output_type": "stream",
     "text": [
      "Train Accuracy : 0.8287602195094635\n",
      "Test Accuracy : 0.8132557098074339\n"
     ]
    }
   ],
   "source": [
    "rf1=RandomForestClassifier(n_estimators=200, max_depth=12,min_samples_split= 200) \n",
    "# n_estiamtor will vary test accuracy more vary wil be because of depth \n",
    "rf1.fit(X_train, y_train) \n",
    "print(\"Train Accuracy :\", rf1.score(X_train,y_train))\n",
    "print(\"Test Accuracy :\", rf1.score(X_test,y_test))"
   ]
  },
  {
   "cell_type": "code",
   "execution_count": 71,
   "metadata": {},
   "outputs": [
    {
     "data": {
      "text/plain": [
       "(8929, 21)"
      ]
     },
     "execution_count": 71,
     "metadata": {},
     "output_type": "execute_result"
    }
   ],
   "source": [
    "X_train.shape"
   ]
  },
  {
   "cell_type": "code",
   "execution_count": 72,
   "metadata": {},
   "outputs": [
    {
     "data": {
      "text/plain": [
       "3840"
      ]
     },
     "execution_count": 72,
     "metadata": {},
     "output_type": "execute_result"
    }
   ],
   "source": [
    "4*4*4*3*2*10"
   ]
  },
  {
   "cell_type": "code",
   "execution_count": 73,
   "metadata": {},
   "outputs": [],
   "source": [
    "from sklearn.model_selection import GridSearchCV"
   ]
  },
  {
   "cell_type": "code",
   "execution_count": 74,
   "metadata": {},
   "outputs": [
    {
     "name": "stdout",
     "output_type": "stream",
     "text": [
      "Fitting 5 folds for each of 24 candidates, totalling 120 fits\n"
     ]
    },
    {
     "data": {
      "text/plain": [
       "GridSearchCV(cv=5, estimator=RandomForestClassifier(random_state=42), n_jobs=-1,\n",
       "             param_grid={'criterion': ['entropy'], 'max_depth': [7, 10],\n",
       "                         'max_features': ['auto', 'log2', None],\n",
       "                         'min_samples_split': [6, 10],\n",
       "                         'n_estimators': [150, 200]},\n",
       "             verbose=1)"
      ]
     },
     "execution_count": 74,
     "metadata": {},
     "output_type": "execute_result"
    }
   ],
   "source": [
    "fit_rf = RandomForestClassifier(random_state=42)\n",
    "\n",
    "param_dist = {'max_depth':[7,10],\n",
    "              'min_samples_split':[6,10],\n",
    "              'n_estimators':[150,200],\n",
    "#               'bootstrap': [True, False],\n",
    "              'max_features': ['auto', 'log2', None],\n",
    "              'criterion': ['entropy']}\n",
    "\n",
    "cv_rf = GridSearchCV(fit_rf, cv = 5,\n",
    "                     param_grid=param_dist, \n",
    "                     n_jobs = -1, verbose=1)\n",
    "\n",
    "cv_rf.fit(X_train, y_train)"
   ]
  },
  {
   "cell_type": "code",
   "execution_count": 75,
   "metadata": {},
   "outputs": [],
   "source": [
    "# 4*4*4*2*3*2*10"
   ]
  },
  {
   "cell_type": "code",
   "execution_count": 76,
   "metadata": {},
   "outputs": [
    {
     "data": {
      "text/plain": [
       "{'criterion': 'entropy',\n",
       " 'max_depth': 10,\n",
       " 'max_features': 'auto',\n",
       " 'min_samples_split': 10,\n",
       " 'n_estimators': 150}"
      ]
     },
     "execution_count": 76,
     "metadata": {},
     "output_type": "execute_result"
    }
   ],
   "source": [
    "cv_rf.best_params_"
   ]
  },
  {
   "cell_type": "code",
   "execution_count": 77,
   "metadata": {},
   "outputs": [
    {
     "data": {
      "text/plain": [
       "0.8193516958855209"
      ]
     },
     "execution_count": 77,
     "metadata": {},
     "output_type": "execute_result"
    }
   ],
   "source": [
    "cv_rf.best_score_"
   ]
  },
  {
   "cell_type": "code",
   "execution_count": 78,
   "metadata": {},
   "outputs": [
    {
     "name": "stdout",
     "output_type": "stream",
     "text": [
      "Train Accuracy : 0.8510471497368126\n",
      "Test Accuracy : 0.8137035378414689\n"
     ]
    }
   ],
   "source": [
    "rf2=RandomForestClassifier(n_estimators=cv_rf.best_params_['n_estimators'],\n",
    "                           max_depth=cv_rf.best_params_['max_depth'], \n",
    "                           criterion=cv_rf.best_params_[\"criterion\"],\n",
    "                           min_samples_split=cv_rf.best_params_[\"min_samples_split\"],\n",
    "                           max_features=cv_rf.best_params_[\"max_features\"]\n",
    "                          )\n",
    "rf2.fit(X_train, y_train)\n",
    "print(\"Train Accuracy :\", rf2.score(X_train,y_train))\n",
    "print(\"Test Accuracy :\", rf2.score(X_test,y_test))"
   ]
  },
  {
   "cell_type": "code",
   "execution_count": 79,
   "metadata": {},
   "outputs": [],
   "source": [
    "pred_train_rf=rf2.predict(X_train)\n",
    "pred_test_rf=rf2.predict(X_test)"
   ]
  },
  {
   "cell_type": "code",
   "execution_count": 80,
   "metadata": {},
   "outputs": [
    {
     "name": "stdout",
     "output_type": "stream",
     "text": [
      "              precision    recall  f1-score   support\n",
      "\n",
      "           0       0.87      0.84      0.85      4668\n",
      "           1       0.83      0.87      0.85      4261\n",
      "\n",
      "    accuracy                           0.85      8929\n",
      "   macro avg       0.85      0.85      0.85      8929\n",
      "weighted avg       0.85      0.85      0.85      8929\n",
      "\n"
     ]
    }
   ],
   "source": [
    "print(metrics.classification_report(y_train, pred_train_rf))"
   ]
  },
  {
   "cell_type": "code",
   "execution_count": null,
   "metadata": {},
   "outputs": [],
   "source": [
    "rf2.predict_proba(X_train)[:,1]"
   ]
  },
  {
   "cell_type": "code",
   "execution_count": null,
   "metadata": {},
   "outputs": [],
   "source": []
  },
  {
   "cell_type": "markdown",
   "metadata": {},
   "source": [
    "### Adaboost"
   ]
  },
  {
   "cell_type": "code",
   "execution_count": null,
   "metadata": {},
   "outputs": [],
   "source": [
    "import pandas as pd\n",
    "import numpy as np\n",
    "from sklearn import tree\n",
    "from sklearn import preprocessing\n",
    "from sklearn.ensemble import AdaBoostClassifier\n",
    "from sklearn import metrics\n",
    "import matplotlib.pyplot as plt"
   ]
  },
  {
   "cell_type": "code",
   "execution_count": null,
   "metadata": {},
   "outputs": [],
   "source": [
    "x_train, x_test, y_train, y_test=train_test_split(X,y, test_size=0.2, random_state=0)"
   ]
  },
  {
   "cell_type": "code",
   "execution_count": null,
   "metadata": {},
   "outputs": [],
   "source": [
    "# Create adaboost-decision tree classifer object\n",
    "clf_ABC1 = AdaBoostClassifier(n_estimators=50,\n",
    "                         learning_rate=0.1,\n",
    "                         random_state=0)"
   ]
  },
  {
   "cell_type": "code",
   "execution_count": null,
   "metadata": {},
   "outputs": [],
   "source": [
    "# Train model\n",
    "clf_ABC1 = clf_ABC1.fit(x_train,y_train)\n",
    "\n",
    "# Predicting the model\n",
    "y_pred_ABC1 = clf_ABC1.predict(x_test)"
   ]
  },
  {
   "cell_type": "code",
   "execution_count": null,
   "metadata": {},
   "outputs": [],
   "source": [
    "print(\"Train accuracy\", clf_ABC1.score(x_train,y_train) )\n",
    "print(\"Train accuracy\", clf_ABC1.score(x_test,y_test) )"
   ]
  },
  {
   "cell_type": "code",
   "execution_count": null,
   "metadata": {},
   "outputs": [],
   "source": []
  },
  {
   "cell_type": "code",
   "execution_count": null,
   "metadata": {},
   "outputs": [],
   "source": [
    "y_pred_proba = clf_ABC1.predict_proba(x_test)[::,1]\n",
    "fpr, tpr, _ = metrics.roc_curve(y_test,  y_pred_proba)\n",
    "auc = metrics.roc_auc_score(y_test, y_pred_proba)\n",
    "plt.plot(fpr,tpr,label=\"data 1, auc=\"+str(auc))\n",
    "plt.legend(loc=4)\n",
    "plt.show()"
   ]
  },
  {
   "cell_type": "code",
   "execution_count": null,
   "metadata": {},
   "outputs": [],
   "source": [
    "[int(x) for x in np.linspace(start = 50, stop = 200, num = 10)]"
   ]
  },
  {
   "cell_type": "code",
   "execution_count": null,
   "metadata": {},
   "outputs": [],
   "source": [
    "from sklearn.model_selection import RandomizedSearchCV\n",
    "\n",
    "# n_estimators = [int(x) for x in np.linspace(start = 50, stop = 5, num = 5)]\n",
    "\n",
    "\n",
    "# # Maximum number of levels in tree\n",
    "# max_depth = [int(x) for x in np.linspace(1, 10, num = 10)]\n",
    "# max_depth.append(None)\n",
    "# # Minimum number of samples required to split a node\n",
    "# min_samples_split = [2, 5, 10]\n",
    "# # Minimum number of samples required at each leaf node\n",
    "# min_samples_leaf = [1, 2, 4]\n",
    "\n",
    "\n",
    "# Create the random grid\n",
    "random_grid = {'n_estimators': [50, 70,100,150,200, 250,300,500],\n",
    "               \"learning_rate\" : [1, 0.1, .01, 0.001]\n",
    "\n",
    "#                'max_depth': [5,7,9,10, 12,14,16,18],\n",
    "# #                'min_samples_split': [2,5,8,10, 20,50,70,75],\n",
    "#                'min_samples_leaf': [2,5,8,10, 20,50,70,75]\n",
    "               }\n",
    "print(random_grid)"
   ]
  },
  {
   "cell_type": "code",
   "execution_count": null,
   "metadata": {},
   "outputs": [],
   "source": [
    "8*4*5"
   ]
  },
  {
   "cell_type": "code",
   "execution_count": null,
   "metadata": {},
   "outputs": [],
   "source": [
    "clf_ABC1 = AdaBoostClassifier(random_state=0)\n",
    "ada_randomCV = RandomizedSearchCV(estimator = clf_ABC1, param_distributions = random_grid,\n",
    "                                cv = 5,random_state=42, n_jobs=-1, verbose=1)\n",
    "# Fit the random search model\n",
    "ada_randomCV.fit(x_train, y_train)"
   ]
  },
  {
   "cell_type": "code",
   "execution_count": null,
   "metadata": {},
   "outputs": [],
   "source": [
    "ada_randomCV.best_params_"
   ]
  },
  {
   "cell_type": "code",
   "execution_count": null,
   "metadata": {},
   "outputs": [],
   "source": [
    "# Create the random grid\n",
    "gsearch_grid = {'n_estimators': [150,180,200, 250],\n",
    "               \"learning_rate\" : [1, 0.1, .01]\n",
    "\n",
    "#                'max_depth': [5,7,9,10, 12,14,16,18],\n",
    "# #                'min_samples_split': [2,5,8,10, 20,50,70,75],\n",
    "#                'min_samples_leaf': [2,5,8,10, 20,50,70,75]\n",
    "               }\n",
    "print(gsearch_grid)"
   ]
  },
  {
   "cell_type": "code",
   "execution_count": null,
   "metadata": {},
   "outputs": [],
   "source": [
    "from sklearn.model_selection import GridSearchCV\n",
    "gd_search=GridSearchCV(estimator = clf_ABC1,  param_grid=gsearch_grid,\n",
    "                                cv = 5, n_jobs=-1, verbose=1)\n",
    "gd_search.fit(x_train, y_train)\n"
   ]
  },
  {
   "cell_type": "code",
   "execution_count": null,
   "metadata": {},
   "outputs": [],
   "source": [
    "gd_search.best_params_"
   ]
  },
  {
   "cell_type": "code",
   "execution_count": null,
   "metadata": {},
   "outputs": [],
   "source": [
    "clf_ABC1 = AdaBoostClassifier(n_estimators=200,random_state=0, learning_rate=0.1)"
   ]
  },
  {
   "cell_type": "code",
   "execution_count": null,
   "metadata": {},
   "outputs": [],
   "source": [
    "# Train model\n",
    "clf_ABC1 = clf_ABC1.fit(x_train,y_train)\n",
    "\n",
    "# Predicting the model\n",
    "y_pred_ABC1 = clf_ABC1.predict(x_test)"
   ]
  },
  {
   "cell_type": "code",
   "execution_count": null,
   "metadata": {},
   "outputs": [],
   "source": [
    "print(\"Train accuracy\", clf_ABC1.score(x_train,y_train) )\n",
    "print(\"Test accuracy\", clf_ABC1.score(x_test,y_test) )"
   ]
  },
  {
   "cell_type": "code",
   "execution_count": null,
   "metadata": {},
   "outputs": [],
   "source": [
    "cols = ['Model', 'ROC Score', 'Precision Score', 'Recall Score','Accuracy Score','Kappa Score']\n",
    "models_report = pd.DataFrame(columns = cols)\n",
    "\n",
    "tmp1 = pd.Series({'Model': \" Adaboost Classifier \",\n",
    "                 'ROC Score' : metrics.roc_auc_score(y_test, y_pred_ABC1),\n",
    "                 'Precision Score': metrics.precision_score(y_test, y_pred_ABC1),\n",
    "                 'Recall Score': metrics.recall_score(y_test, y_pred_ABC1),\n",
    "                 'Accuracy Score': metrics.accuracy_score(y_test, y_pred_ABC1),\n",
    "                 'Kappa Score':metrics.cohen_kappa_score(y_test, y_pred_ABC1)})\n",
    "\n",
    "model_abc1_report = models_report.append(tmp1, ignore_index = True)\n",
    "model_abc1_report"
   ]
  },
  {
   "cell_type": "code",
   "execution_count": null,
   "metadata": {},
   "outputs": [],
   "source": []
  }
 ],
 "metadata": {
  "kernelspec": {
   "display_name": "Python 3 (ipykernel)",
   "language": "python",
   "name": "python3"
  },
  "language_info": {
   "codemirror_mode": {
    "name": "ipython",
    "version": 3
   },
   "file_extension": ".py",
   "mimetype": "text/x-python",
   "name": "python",
   "nbconvert_exporter": "python",
   "pygments_lexer": "ipython3",
   "version": "3.9.7"
  }
 },
 "nbformat": 4,
 "nbformat_minor": 4
}
